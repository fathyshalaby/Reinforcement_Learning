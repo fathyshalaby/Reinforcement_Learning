{
 "cells": [
  {
   "cell_type": "markdown",
   "metadata": {},
   "source": [
   
    "- (3.1) Analysis of DP, MC on Frozen Lake (2 Points)\n",
    "- (4.1) Implement TD(0) (Policy Evaluation) (3 Points)\n",
    "- (4.2) Implement SARSA (Policy Improvement) (5 Points)\n",
    "- (4.3) Implement Q-Learning (Policy Improvement) (5 Points)\n",
    "- (4.4) Implement Expected-SARSA (Policy Improvement) (5 Points)\n",
    "- (4.5) Implement Double-Q Learning (De-biased Policy Improvement) (5 Points)\n",
    "\n",
    "**Do not forget to run all the code cells, before saving and submitting the assignment!**"
   ]
  },
  {
   "cell_type": "markdown",
   "metadata": {},
   "source": [
    "# Part 1: Frozen Lake, Dynamic Programming\n",
    "\n",
    "<div class=\"alert alert-info\">\n",
    "The following description is adapted from <a href=\"https://github.com/openai/gym/blob/master/gym/envs/toy_text/frozen_lake.py\">the environment description</a>:\n",
    "\n",
    "<pre><code>\n",
    "    Winter is here. You and your friends were tossing around a frisbee at the park\n",
    "    when you made a wild throw that left the frisbee out in the middle of the lake.\n",
    "    The water is mostly frozen, but there are a few holes where the ice has melted.\n",
    "    If you step into one of those holes, you'll fall into the freezing water.\n",
    "    At this time, there's an international frisbee shortage, so it's absolutely imperative that\n",
    "    you navigate across the lake and retrieve the disc.\n",
    "    However, the ice is slippery, so you won't always move in the direction you intend.\n",
    "    The surface is described using a grid like the following\n",
    "        \n",
    "        SFFFFFFF\n",
    "        FFFFFFFF\n",
    "        FFFHFFFF\n",
    "        FFFFFHFF\n",
    "        FFFHFFFF\n",
    "        FHHFFFHF\n",
    "        FHFFHFHF\n",
    "        FFFHFFFG\n",
    "        \n",
    "    S : starting point, safe\n",
    "    F : frozen surface, safe\n",
    "    H : hole, fall to your doom\n",
    "    G : goal, where the frisbee is located\n",
    "    \n",
    "    The episode ends when you reach the goal or fall in a hole.\n",
    "    You receive a reward of 1 if you reach the goal, and zero otherwise.\n",
    "</code></pre>\n",
    "\n",
    "You will now use this environment to implement prediction and control algorithms.\n"
   ]
  },
  {
   "cell_type": "markdown",
   "metadata": {},
   "source": [
    "<h2>Preliminaries</h2>\n",
    "\n",
    "What follows are the imports, the generation of the environment and some helper functions. You have to run this cell first, before starting to implement and run your algorithms."
   ]
  },
  {
   "cell_type": "code",
   "execution_count": 1,
   "metadata": {},
   "outputs": [
    {
     "name": "stdout",
     "output_type": "stream",
     "text": [
      "Requirement already satisfied: gym in /Users/fathyshalaby/opt/anaconda3/lib/python3.8/site-packages (0.17.3)\n",
      "Requirement already satisfied: numpy>=1.10.4 in /Users/fathyshalaby/opt/anaconda3/lib/python3.8/site-packages (from gym) (1.18.5)\n",
      "Requirement already satisfied: scipy in /Users/fathyshalaby/opt/anaconda3/lib/python3.8/site-packages (from gym) (1.5.0)\n",
      "Requirement already satisfied: cloudpickle<1.7.0,>=1.2.0 in /Users/fathyshalaby/opt/anaconda3/lib/python3.8/site-packages (from gym) (1.5.0)\n",
      "Requirement already satisfied: pyglet<=1.5.0,>=1.4.0 in /Users/fathyshalaby/opt/anaconda3/lib/python3.8/site-packages (from gym) (1.5.0)\n",
      "Requirement already satisfied: future in /Users/fathyshalaby/opt/anaconda3/lib/python3.8/site-packages (from pyglet<=1.5.0,>=1.4.0->gym) (0.18.2)\n"
     ]
    }
   ],
   "source": [
    "!pip3 install gym"
   ]
  },
  {
   "cell_type": "code",
   "execution_count": 2,
   "metadata": {},
   "outputs": [
    {
     "name": "stdout",
     "output_type": "stream",
     "text": [
      "this does not look so good:\n",
      "{'some_key': [(0, 1, 2, {'a': 0, 'b': 1}), (2, 3, 4, {'c': 2, 'd': 2}), (5, 6, 7, {'e': 3, 'f': 3})], 'some_other_key': {'d': 'e', 'f': 'g'}}\n",
      "\n",
      "\n",
      "----------------------------------------\n",
      "this is much more readable:\n",
      "{'some_key': [(0, 1, 2, {'a': 0, 'b': 1}),\n",
      "              (2, 3, 4, {'c': 2, 'd': 2}),\n",
      "              (5, 6, 7, {'e': 3, 'f': 3})],\n",
      " 'some_other_key': {'d': 'e', 'f': 'g'}}\n"
     ]
    }
   ],
   "source": [
    "# the next line is to automatically reload changed, external modules\n",
    "from pprint import pprint\n",
    "\n",
    "# the function pprint is a pretty printer for more\n",
    "# complex datastructures, such as dict's, sets, lists, etc...\n",
    "# this might be helpful for debugging, etc...\n",
    "\n",
    "complex_data = dict(\n",
    "    some_key=[\n",
    "        (0, 1, 2, dict(a=0, b=1)),\n",
    "        (2, 3, 4, dict(c=2, d=2)),\n",
    "        (5, 6, 7, dict(e=3, f=3))\n",
    "    ],\n",
    "    some_other_key=dict(\n",
    "        d='e', f='g'\n",
    "    )\n",
    ")\n",
    "\n",
    "print('this does not look so good:')\n",
    "print(complex_data)\n",
    "print('\\n\\n' + '-' * 40)\n",
    "print('this is much more readable:')\n",
    "pprint(complex_data)"
   ]
  },
  {
   "cell_type": "code",
   "execution_count": 3,
   "metadata": {},
   "outputs": [],
   "source": [
    "import matplotlib.pyplot as plt\n",
    "import numpy as np\n",
    "import gym\n",
    "from copy import deepcopy\n",
    "\n",
    "np.set_printoptions(precision=4, suppress=True, threshold=200)\n",
    "\n",
    "\n",
    "def gridworld_print_deterministic_policy(env, policy):\n",
    "    \"\"\"\n",
    "    Generate a deterministic policy from a stochastic policy by taking\n",
    "    the argmax action for every state. Then make it human-readable via \n",
    "    a given move dictionary\n",
    "    \n",
    "    Args:\n",
    "        env: the openai gym environment\n",
    "        policy: a policy given as np.array\n",
    "    \n",
    "    Returns:\n",
    "        a human readable policy as np.array\n",
    "    \"\"\"\n",
    "    moves = ['L', 'D', 'R', 'U']\n",
    "    deterministic_policy = np.array([np.argmax(policy[s]) for s in range(env.observation_space.n)])\n",
    "    human_readable_policy = np.array([moves[s] for s in deterministic_policy])\n",
    "    \n",
    "    desc = env.desc.reshape(env.observation_space.n)\n",
    "    for s in range(env.observation_space.n):\n",
    "        if desc[s] in (b'H', b'G'):\n",
    "            human_readable_policy[s] = desc[s]\n",
    "            \n",
    "    print(human_readable_policy.reshape((env.nrow, env.ncol)))\n",
    "\n",
    "\n",
    "# this is a helper function that turns a V represented as a dict into an array\n",
    "def dict_to_array(env, d):\n",
    "    V = np.zeros(env.observation_space.n)\n",
    "    for state, value in d.items():\n",
    "        V[state] = value\n",
    "    return V    \n",
    "\n",
    "\n",
    "def gridworld_print_value_function(env, V_dict):\n",
    "    V = dict_to_array(env, V_dict)\n",
    "    # for gridworlds, we reshape this array to reflect\n",
    "    # its 'spatial' properties - so the state value function\n",
    "    # has the same shape as the gridworld\n",
    "    print(V.reshape(env.nrow, env.ncol))\n",
    "\n",
    "\n",
    "def gridworld_plot_policy(env, policy):\n",
    "    \"\"\"\n",
    "    This is going to generate a quiver plot to visualize the policy graphically.\n",
    "    It is useful to see all the probabilities assigned to the four possible actions\n",
    "    in each state\n",
    "    \"\"\"\n",
    "    fig, ax = plt.subplots()\n",
    "    xs = np.arange(env.ncol)\n",
    "    ys = np.arange(env.nrow)\n",
    "    xx, yy = np.meshgrid(xs, ys)\n",
    "    \n",
    "    direction = [\n",
    "        np.array((-1, 0)),  # left\n",
    "        np.array((0, -1)),  # down\n",
    "        np.array((+1, 0)),  # right\n",
    "        np.array((0, +1)),  # up\n",
    "    ]\n",
    "    \n",
    "    # we need a quiver for each of the four action\n",
    "    quivers = list()\n",
    "    for a in range(env.action_space.n):\n",
    "        quivers.append(list())\n",
    "\n",
    "    # we parse the textual description of the lake\n",
    "    desc = env.desc.reshape(env.observation_space.n)\n",
    "    for s in range(env.observation_space.n):\n",
    "        if desc[s] in (b'H', b'G'):\n",
    "            for a in range(4):\n",
    "                quivers[a].append((0., 0.))\n",
    "        else:\n",
    "            for a in range(4):\n",
    "                quivers[a].append(direction[a] * policy[s][a])\n",
    "    \n",
    "    # plot each quiver\n",
    "    for quiver in quivers:\n",
    "        q = np.array(quiver)\n",
    "        ax.quiver(xx, yy, q[:, 0], q[:, 1], units='xy', scale=1.5)\n",
    "    \n",
    "    # set axis limits / ticks / etc... so we have a nice grid overlay\n",
    "    ax.set_xlim((xs.min() - 0.5, xs.max() + 0.5))\n",
    "    ax.set_ylim((ys.max() + 0.5, ys.min() - 0.5))  # y axis is flipped, so it corresponds to what imshow shows\n",
    "\n",
    "    ax.set_xticks(xs)\n",
    "    ax.set_yticks(ys)\n",
    "    \n",
    "    # major ticks\n",
    "    sx = env.ncol\n",
    "    sy = env.nrow\n",
    "    ax.set_xticks(np.arange(0, sx, 1))\n",
    "    ax.set_yticks(np.arange(0, sy, 1))\n",
    "\n",
    "    # minor ticks\n",
    "    ax.set_xticks(np.arange(-.5, sx, 1), minor=True)\n",
    "    ax.set_yticks(np.arange(-.5, sy, 1), minor=True)\n",
    "\n",
    "    ax.grid(which='minor', color='gray', linestyle='-', linewidth=1)\n",
    "\n",
    "    ax.set_aspect(1)\n",
    "    plt.show()\n",
    "\n",
    "\n",
    "def gridworld_plot_value_function(env, V_dict, vmin=None, vmax=None):\n",
    "    \"\"\"\n",
    "    This is going to show the value function 'V' as an image\n",
    "    \"\"\"\n",
    "    V = dict_to_array(env, V_dict)\n",
    "    if vmin is None:\n",
    "        vmin = V.min()\n",
    "    if vmax is None:\n",
    "        vmax = V.max()\n",
    "\n",
    "    mask = np.full_like(V, False, dtype=np.bool)\n",
    "    # mark the terminal states as having 'no value'\n",
    "    # to do that, we parse the textual description of the gridworld\n",
    "    ux = []\n",
    "    uy = []\n",
    "    desc = env.desc.reshape(env.observation_space.n)\n",
    "    for s in range(env.observation_space.n):\n",
    "        if desc[s] in (b'H', b'G'):\n",
    "            y, x = divmod(s, env.ncol)\n",
    "            ux.append(x)\n",
    "            uy.append(y)\n",
    "            mask[s] = True\n",
    "    \n",
    "    # mask out all terminal states\n",
    "    masked = np.ma.masked_where(mask, V)\n",
    "        \n",
    "    fig, ax = plt.subplots()\n",
    "    im = ax.imshow(\n",
    "        masked.reshape((env.nrow,env.ncol)),\n",
    "        cmap='magma',\n",
    "        vmin=vmin,\n",
    "        vmax=vmax,\n",
    "        aspect=1\n",
    "    )\n",
    "   \n",
    "    ax.scatter(ux, uy, marker='x', color='r')\n",
    "    \n",
    "    xs = np.arange(env.ncol)\n",
    "    ys = np.arange(env.nrow)\n",
    "    \n",
    "    # set axis limits / ticks / etc... so we have a nice grid overlay\n",
    "    ax.set_xlim((xs.min() - 0.5, xs.max() + 0.5))\n",
    "    ax.set_ylim((ys.max() + 0.5, ys.min() - 0.5))  # y axis is flipped, so it corresponds to what imshow shows\n",
    "\n",
    "    ax.set_xticks(xs)\n",
    "    ax.set_yticks(ys)\n",
    "    \n",
    "    # major ticks\n",
    "    sx = env.ncol\n",
    "    sy = env.nrow\n",
    "    ax.set_xticks(np.arange(0, sx, 1))\n",
    "    ax.set_yticks(np.arange(0, sy, 1))\n",
    "\n",
    "    # minor ticks\n",
    "    ax.set_xticks(np.arange(-.5, sx, 1), minor=True)\n",
    "    ax.set_yticks(np.arange(-.5, sy, 1), minor=True)\n",
    "\n",
    "    ax.grid(which='minor', color='gray', linestyle='-', linewidth=1)\n",
    "    \n",
    "    plt.colorbar(im)\n",
    "    plt.show()"
   ]
  },
  {
   "cell_type": "markdown",
   "metadata": {},
   "source": [
    "## Quickstart\n",
    "\n",
    "Here we give you a few hints on how to use the openai gym, what the data formats look like, etc.\n",
    "\n",
    "### Loading the Environment and Moving Around"
   ]
  },
  {
   "cell_type": "code",
   "execution_count": 4,
   "metadata": {},
   "outputs": [
    {
     "name": "stdout",
     "output_type": "stream",
     "text": [
      "\n",
      "\u001b[41mS\u001b[0mFFFFFFF\n",
      "FFFFFFFF\n",
      "FFFHFFFF\n",
      "FFFFFHFF\n",
      "FFFHFFFF\n",
      "FHHFFFHF\n",
      "FHFFHFHF\n",
      "FFFHFFFG\n",
      "--------------------\n",
      "(0, 0.0, False, {'prob': 0.3333333333333333})\n",
      "  (Down)\n",
      "\u001b[41mS\u001b[0mFFFFFFF\n",
      "FFFFFFFF\n",
      "FFFHFFFF\n",
      "FFFFFHFF\n",
      "FFFHFFFF\n",
      "FHHFFFHF\n",
      "FHFFHFHF\n",
      "FFFHFFFG\n",
      "--------------------\n",
      "(0, 0.0, False, {'prob': 0.3333333333333333})\n",
      "  (Right)\n",
      "\u001b[41mS\u001b[0mFFFFFFF\n",
      "FFFFFFFF\n",
      "FFFHFFFF\n",
      "FFFFFHFF\n",
      "FFFHFFFF\n",
      "FHHFFFHF\n",
      "FHFFHFHF\n",
      "FFFHFFFG\n"
     ]
    }
   ],
   "source": [
    "# load the environment\n",
    "lake_env = gym.make('FrozenLake8x8-v0')\n",
    "# reset it (set it back to its inital state (not strictly necessary here...))\n",
    "lake_env.reset()\n",
    "# let's start by looking at our environment\n",
    "lake_env.render()\n",
    "\n",
    "# we can try to move around:\n",
    "print('-' * 20)\n",
    "result = lake_env.step(1) # let's try to move downwards\n",
    "print(result)\n",
    "# the result will look something like this:\n",
    "# (8, 0.0, False, {'prob': 0.3333333333333333})\n",
    "# which means that we are now in state 8, we got 0 reward for our last step,\n",
    "# it is not a goal state and that the probability that we end up in this new state,\n",
    "# given what our previous state and the action was, is 0.33 (so it is very, very slippery)\n",
    "# we can have another look at our environment (chances are that the agent moved away from the inital square)\n",
    "lake_env.render()\n",
    "\n",
    "# let's do this again ...\n",
    "print('-' * 20)\n",
    "result = lake_env.step(2) # let's try to go right\n",
    "print(result)\n",
    "lake_env.render()"
   ]
  },
  {
   "cell_type": "markdown",
   "metadata": {},
   "source": [
    "### Accessing Information about the Environment"
   ]
  },
  {
   "cell_type": "code",
   "execution_count": 5,
   "metadata": {},
   "outputs": [
    {
     "name": "stdout",
     "output_type": "stream",
     "text": [
      "Shape:  8 8\n",
      "Number of States:  64\n",
      "Number of Actions:  4\n",
      "\n",
      "For example, the dynamics for state 0 look like this:\n",
      "{0: [(0.3333333333333333, 0, 0.0, False),\n",
      "     (0.3333333333333333, 0, 0.0, False),\n",
      "     (0.3333333333333333, 8, 0.0, False)],\n",
      " 1: [(0.3333333333333333, 0, 0.0, False),\n",
      "     (0.3333333333333333, 8, 0.0, False),\n",
      "     (0.3333333333333333, 1, 0.0, False)],\n",
      " 2: [(0.3333333333333333, 8, 0.0, False),\n",
      "     (0.3333333333333333, 1, 0.0, False),\n",
      "     (0.3333333333333333, 0, 0.0, False)],\n",
      " 3: [(0.3333333333333333, 1, 0.0, False),\n",
      "     (0.3333333333333333, 0, 0.0, False),\n",
      "     (0.3333333333333333, 0, 0.0, False)]}\n",
      "\n",
      "And if are in state 0 and take action 1, these are the dynamics:\n",
      "[(0.3333333333333333, 0, 0.0, False),\n",
      " (0.3333333333333333, 8, 0.0, False),\n",
      " (0.3333333333333333, 1, 0.0, False)]\n"
     ]
    }
   ],
   "source": [
    "# we have perfect information about our environment (and you should make use of it in your code...):\n",
    "print(\"Shape: \", lake_env.ncol, lake_env.nrow) # we know the shape of our lake\n",
    "print(\"Number of States: \", lake_env.observation_space.n) # we can also access the number of states directly\n",
    "print(\"Number of Actions: \", lake_env.action_space.n) # we know the number of actions\n",
    "\n",
    "# the dynamics are given as a dictionary (you can print the full dynamics by uncommenting the next line)\n",
    "# print \"Dynamics: \", env.env.P # and we know the dynamics\n",
    "\n",
    "print(\"\\nFor example, the dynamics for state 0 look like this:\")\n",
    "pprint(lake_env.P[0])\n",
    "print(\"\\nAnd if are in state 0 and take action 1, these are the dynamics:\")\n",
    "pprint(lake_env.P[0][1])\n",
    "\n",
    "# i.e. env.env.P[x][y] gives you for state x and move y a list of possible outcomes.\n",
    "# e.g. if we take action 1 at state 0, this is the result:\n",
    "# [(0.3333333333333333, 0, 0.0, False), (0.3333333333333333, 8, 0.0, False), (0.3333333333333333, 1, 0.0, False)]\n",
    "# which means that with a probability of 0.33 we end up at state 0, get 0.0 reward,\n",
    "# and it is a non-terminal state, etc.\n",
    "\n",
    "# this means we can use dynamic programming to compute an optimal policy"
   ]
  },
  {
   "cell_type": "markdown",
   "metadata": {},
   "source": [
    "### Storing and visualizing Policies and Value Functions"
   ]
  },
  {
   "cell_type": "code",
   "execution_count": 6,
   "metadata": {},
   "outputs": [
    {
     "name": "stdout",
     "output_type": "stream",
     "text": [
      "\n",
      "A sample (first 10x4 state-action pairs) from the policy:\n",
      "\n",
      "[(0, array([0.25, 0.25, 0.25, 0.25])),\n",
      " (1, array([0.25, 0.25, 0.25, 0.25])),\n",
      " (2, array([0.25, 0.25, 0.25, 0.25])),\n",
      " (3, array([0.25, 0.25, 0.25, 0.25])),\n",
      " (4, array([0.25, 0.25, 0.25, 0.25])),\n",
      " (5, array([0.25, 0.25, 0.25, 0.25])),\n",
      " (6, array([0.25, 0.25, 0.25, 0.25])),\n",
      " (7, array([0.25, 0.25, 0.25, 0.25])),\n",
      " (8, array([0.25, 0.25, 0.25, 0.25])),\n",
      " (9, array([0.25, 0.25, 0.25, 0.25]))]\n",
      "\n",
      "The random policy in full (the dots are where goals and holes are):\n",
      "\n"
     ]
    },
    {
     "data": {
      "image/png": "[encoded data removed]",
      "text/plain": [
       "<Figure size 432x288 with 1 Axes>"
      ]
     },
     "metadata": {
      "needs_background": "light"
     },
     "output_type": "display_data"
    },
    {
     "name": "stdout",
     "output_type": "stream",
     "text": [
      "\n",
      "An initial, all-zero value function:\n",
      "\n",
      "[[0. 0. 0. 0. 0. 0. 0. 0.]\n",
      " [0. 0. 0. 0. 0. 0. 0. 0.]\n",
      " [0. 0. 0. 0. 0. 0. 0. 0.]\n",
      " [0. 0. 0. 0. 0. 0. 0. 0.]\n",
      " [0. 0. 0. 0. 0. 0. 0. 0.]\n",
      " [0. 0. 0. 0. 0. 0. 0. 0.]\n",
      " [0. 0. 0. 0. 0. 0. 0. 0.]\n",
      " [0. 0. 0. 0. 0. 0. 0. 0.]]\n",
      "\n",
      "We can also plot the all-zero value function:\n",
      "\n"
     ]
    },
    {
     "data": {
      "image/png": "[encoded data removed]",
      "text/plain": [
       "<Figure size 432x288 with 2 Axes>"
      ]
     },
     "metadata": {
      "needs_background": "light"
     },
     "output_type": "display_data"
    }
   ],
   "source": [
    "# how do we store a policy?\n",
    "# we simply use a dictionary that maps states to actionprobabilities\n",
    "\n",
    "# let's create a function that returns a random walk policy\n",
    "def gridworld_random_policy(env):\n",
    "    policy = dict()\n",
    "    for state in range(env.observation_space.n):\n",
    "        # all actions have equal probability\n",
    "        policy[state] = np.ones(env.action_space.n) / env.action_space.n\n",
    "    return policy\n",
    "\n",
    "policy = gridworld_random_policy(lake_env)\n",
    "\n",
    "print(\"\\nA sample (first 10x4 state-action pairs) from the policy:\\n\")\n",
    "pprint(list(policy.items())[0:10])\n",
    "\n",
    "print(\"\\nThe random policy in full (the dots are where goals and holes are):\\n\")\n",
    "gridworld_plot_policy(lake_env, policy)\n",
    "\n",
    "# and the value function?\n",
    "# we will use a dictionary again\n",
    "def gridworld_initial_value_function(env):\n",
    "    return {s: 0 for s in range(env.observation_space.n)}\n",
    "\n",
    "print('\\nAn initial, all-zero value function:\\n')\n",
    "V = gridworld_initial_value_function(lake_env)\n",
    "gridworld_print_value_function(lake_env, V)\n",
    "\n",
    "print(\"\\nWe can also plot the all-zero value function:\\n\")\n",
    "gridworld_plot_value_function(lake_env, V, 0, 1)"
   ]
  },
  {
   "cell_type": "markdown",
   "metadata": {},
   "source": [
    "## Policy Evaluation with Dynamic Programming\n",
    "\n",
    "This is the first policy evaluation algorithm we have learned about. It is the in-place version, using only one current estimate $V$."
   ]
  },
  {
   "cell_type": "code",
   "execution_count": 7,
   "metadata": {},
   "outputs": [],
   "source": [
    "def dp_policy_evaluation(env, policy, V_init, gamma=0.999, theta=1e-6):\n",
    "    \"\"\"\n",
    "    Policy Evaluation via Dynamic Programming\n",
    "    \n",
    "    Args:\n",
    "        env: the openai gym environment\n",
    "        policy: the policy to be evaluated\n",
    "        V_init: the initial value function\n",
    "        gamma: discount factor gamma\n",
    "        theta: the stopping criterion\n",
    "    \n",
    "    Returns:\n",
    "        the value function for a given policy\n",
    "    \"\"\"\n",
    "    V = deepcopy(V_init)\n",
    "    while True:\n",
    "        delta = 0\n",
    "        for s in range(env.observation_space.n):\n",
    "            v = 0\n",
    "            for a, pa in enumerate(policy[s]):\n",
    "                for ps, sprime, r, _ in env.P[s][a]:\n",
    "                    v += pa * ps * (r + gamma * V[sprime])\n",
    "    \n",
    "            delta = max(delta, np.abs(v - V[s]))\n",
    "            V[s] = v\n",
    "            \n",
    "        if delta < theta:\n",
    "            break\n",
    "        \n",
    "    return V"
   ]
  },
  {
   "cell_type": "markdown",
   "metadata": {},
   "source": [
    "### Run DP Policy Evaluation \n",
    "Okay, let's now run the implemented algorithm on the fishlake environment."
   ]
  },
  {
   "cell_type": "code",
   "execution_count": 8,
   "metadata": {},
   "outputs": [
    {
     "name": "stdout",
     "output_type": "stream",
     "text": [
      "\n",
      "The random policy:\n",
      "\n"
     ]
    },
    {
     "data": {
      "image/png": "[encoded data removed]",
      "text/plain": [
       "<Figure size 432x288 with 1 Axes>"
      ]
     },
     "metadata": {
      "needs_background": "light"
     },
     "output_type": "display_data"
    },
    {
     "name": "stdout",
     "output_type": "stream",
     "text": [
      "\n",
      "The Value Function of our Policy:\n",
      "\n",
      "[[0.0018 0.002  0.0027 0.0039 0.0063 0.0095 0.013  0.0155]\n",
      " [0.0015 0.0017 0.002  0.0029 0.0055 0.0091 0.0142 0.018 ]\n",
      " [0.0011 0.0011 0.001  0.     0.0038 0.0074 0.0166 0.0245]\n",
      " [0.0008 0.0007 0.0007 0.0008 0.0023 0.     0.0203 0.0389]\n",
      " [0.0004 0.0004 0.0003 0.     0.0048 0.0115 0.026  0.0721]\n",
      " [0.0002 0.     0.     0.0014 0.0054 0.0152 0.     0.1517]\n",
      " [0.0001 0.     0.0001 0.0004 0.     0.0441 0.     0.3837]\n",
      " [0.0001 0.     0.     0.     0.0537 0.1614 0.3869 0.    ]]\n",
      "\n",
      "Let's plot this as well:\n",
      "\n"
     ]
    },
    {
     "data": {
      "image/png": "[encoded data removed]",
      "text/plain": [
       "<Figure size 432x288 with 2 Axes>"
      ]
     },
     "metadata": {
      "needs_background": "light"
     },
     "output_type": "display_data"
    }
   ],
   "source": [
    "# let's create a uniformly random policy\n",
    "policy = gridworld_random_policy(lake_env)\n",
    "\n",
    "print(\"\\nThe random policy:\\n\")\n",
    "gridworld_plot_policy(lake_env, policy)\n",
    "\n",
    "# we need an initial value function\n",
    "V_init = gridworld_initial_value_function(lake_env)\n",
    "\n",
    "# and now let's see how good our policy is\n",
    "V = dp_policy_evaluation(lake_env, policy, V_init, gamma=0.999)\n",
    "\n",
    "# print the value function\n",
    "print(\"\\nThe Value Function of our Policy:\\n\")\n",
    "gridworld_print_value_function(lake_env, V)\n",
    "\n",
    "print(\"\\nLet's plot this as well:\\n\")\n",
    "gridworld_plot_value_function(lake_env, V)"
   ]
  },
  {
   "cell_type": "markdown",
   "metadata": {},
   "source": [
    "## Policy Improvement with Dynamic Programming\n",
    "\n",
    "Let's try and improve a given policy! We will use this algorithm later on within the policy iteration algorithm to compute the optimal policy."
   ]
  },
  {
   "cell_type": "code",
   "execution_count": 9,
   "metadata": {},
   "outputs": [],
   "source": [
    "def dp_policy_improvement(env, policy, V, gamma=0.999, theta=1e-6):\n",
    "    \"\"\"\n",
    "    Policy Improvement\n",
    "    \n",
    "    Args:\n",
    "        env: the openai gym environment\n",
    "        policy: the policy to be evaluated\n",
    "        V: the value function of the policy\n",
    "        gamma: the discount factor\n",
    "        theta: the stopping criterion\n",
    "    \n",
    "    Returns:\n",
    "        a tuple (policy, bool) consisting of\n",
    "        the improved policy (a numpy array)\n",
    "        and a boolean, indicating it the policy is stable\n",
    "        meaning the improved policy is the same as the\n",
    "        input policy\n",
    "    \"\"\"\n",
    "    policy_stable = True\n",
    "\n",
    "    for s in range(env.observation_space.n):\n",
    "        chosen_a = np.argmax(policy[s])\n",
    "\n",
    "        action_values = np.zeros(env.action_space.n)\n",
    "        for a in range(env.action_space.n):\n",
    "            for prob, next_state, reward, _ in env.P[s][a]:\n",
    "                action_values[a] += prob * (reward + gamma * V[next_state])\n",
    "        best_a = np.argmax(action_values)\n",
    "\n",
    "        if chosen_a != best_a:\n",
    "            policy_stable = False\n",
    "            policy[s] = np.eye(env.action_space.n)[best_a]\n",
    "        else:\n",
    "            policy[s] = np.eye(env.action_space.n)[chosen_a]\n",
    "\n",
    "        # a note on what 'np.eye(d)[i]' does:\n",
    "        # np.eye(d) returns an identity matrix of size (d, d)\n",
    "        # [i] selects the i-th row of this matrix, which\n",
    "        # is exactly the vector [0, ... 1, ... 0] with the '1' at\n",
    "        # the i-th position. incredibly inefficient, but practical.\n",
    "    return policy, policy_stable"
   ]
  },
  {
   "cell_type": "markdown",
   "metadata": {},
   "source": [
    "## Policy Iteration\n",
    "\n",
    "This one is easy, as we have a function that evaluates, and a function that improves a policy."
   ]
  },
  {
   "cell_type": "code",
   "execution_count": 10,
   "metadata": {},
   "outputs": [],
   "source": [
    "def dp_policy_iteration(env, policy, V_init, gamma=0.999, theta=1e-6):\n",
    "    \"\"\"\n",
    "    Policy Iteration\n",
    "    \n",
    "    Args:\n",
    "        env: the openai gym environment\n",
    "        policy: the policy to be evaluated\n",
    "        V_init: an inital value function\n",
    "    \n",
    "    Returns:\n",
    "        a tuple (policy, V) consisting of\n",
    "        the optimal policy\n",
    "        and the respective value function\n",
    "    \"\"\"\n",
    "    V = deepcopy(V_init)\n",
    "    \n",
    "    while True:\n",
    "        V = dp_policy_evaluation(env, policy, V, gamma, theta)\n",
    "        policy, stable = dp_policy_improvement(env, policy, V, gamma, theta)\n",
    "        \n",
    "        if stable:\n",
    "            return policy, V"
   ]
  },
  {
   "cell_type": "markdown",
   "metadata": {},
   "source": [
    "### Run DP Policy Iteration\n",
    "\n",
    "Next, let's improve a random policy and compute the optimal policy by using  policy iteration."
   ]
  },
  {
   "cell_type": "code",
   "execution_count": 11,
   "metadata": {},
   "outputs": [
    {
     "name": "stdout",
     "output_type": "stream",
     "text": [
      "\n",
      "Deterministic policy computed via the policy iteration algorithm:\n",
      "\n",
      "[['U' 'R' 'R' 'R' 'R' 'R' 'R' 'R']\n",
      " ['U' 'U' 'U' 'U' 'U' 'U' 'U' 'R']\n",
      " ['L' 'U' 'L' 'H' 'R' 'U' 'R' 'R']\n",
      " ['L' 'L' 'L' 'D' 'L' 'H' 'R' 'R']\n",
      " ['L' 'U' 'L' 'H' 'R' 'D' 'U' 'R']\n",
      " ['L' 'H' 'H' 'D' 'U' 'L' 'H' 'R']\n",
      " ['L' 'H' 'D' 'L' 'H' 'L' 'H' 'R']\n",
      " ['L' 'D' 'L' 'H' 'D' 'R' 'D' 'G']]\n",
      "\n",
      "and the respective value function:\n",
      "\n",
      "[[0.8926 0.8953 0.8993 0.9039 0.9088 0.9138 0.9186 0.9224]\n",
      " [0.892  0.894  0.8974 0.9017 0.9065 0.9117 0.9176 0.9252]\n",
      " [0.8766 0.8623 0.8189 0.     0.7777 0.8653 0.909  0.9307]\n",
      " [0.8639 0.8115 0.6993 0.4206 0.5637 0.     0.8816 0.9391]\n",
      " [0.8537 0.7109 0.4696 0.     0.4946 0.5684 0.7992 0.9502]\n",
      " [0.8461 0.     0.     0.1527 0.3531 0.413  0.     0.9642]\n",
      " [0.8411 0.     0.1642 0.1055 0.     0.3188 0.     0.9811]\n",
      " [0.8385 0.6121 0.3876 0.     0.2718 0.5443 0.7715 0.    ]]\n",
      "\n",
      "\n",
      "The same information, graphically represented:\n",
      "\n"
     ]
    },
    {
     "data": {
      "image/png": "[encoded data removed]",
      "text/plain": [
       "<Figure size 432x288 with 1 Axes>"
      ]
     },
     "metadata": {
      "needs_background": "light"
     },
     "output_type": "display_data"
    },
    {
     "data": {
      "image/png": "[encoded data removed]",
      "text/plain": [
       "<Figure size 432x288 with 2 Axes>"
      ]
     },
     "metadata": {
      "needs_background": "light"
     },
     "output_type": "display_data"
    }
   ],
   "source": [
    "# let's create a uniformly random policy\n",
    "policy = gridworld_random_policy(lake_env)\n",
    "\n",
    "# and an initial value function\n",
    "V_init = gridworld_initial_value_function(lake_env)\n",
    "\n",
    "# and now let's compute an optimal policy via the policy iteration algorithm\n",
    "policy, V = dp_policy_iteration(lake_env, policy, V_init)\n",
    "\n",
    "# print the a human-readable version of the optimal policy\n",
    "print(\"\\nDeterministic policy computed via the policy iteration algorithm:\\n\")\n",
    "gridworld_print_deterministic_policy(lake_env, policy)\n",
    "\n",
    "print(\"\\nand the respective value function:\\n\")\n",
    "gridworld_print_value_function(lake_env, V)\n",
    "\n",
    "print('\\n\\nThe same information, graphically represented:\\n')\n",
    "gridworld_plot_policy(lake_env, policy)\n",
    "gridworld_plot_value_function(lake_env, V)"
   ]
  },
  {
   "cell_type": "markdown",
   "metadata": {},
   "source": [
    "## Value Iteration\n",
    "\n",
    "We will now find the optimal value function first, and derive an optimal policy by using one-step lookahead search."
   ]
  },
  {
   "cell_type": "code",
   "execution_count": 12,
   "metadata": {},
   "outputs": [],
   "source": [
    "def one_step_lookahead(env, s, V, gamma=0.999):\n",
    "    A = np.zeros(env.action_space.n)\n",
    "    for a in range(env.action_space.n):\n",
    "        # compute the value of taking 'a' if we are in 's'\n",
    "        for p, sprime, r, _ in env.P[s][a]:\n",
    "            A[a] += p * (r + gamma * V[sprime])\n",
    "    return A\n",
    "\n",
    "\n",
    "def dp_value_iteration(env, V_init, gamma=0.999, theta=1e-6):\n",
    "    \"\"\"\n",
    "    Value Iteration\n",
    "    \n",
    "    Args:\n",
    "        env: the openai gym environment\n",
    "        V: a value function\n",
    "        theta: the stopping criterion\n",
    "        gamma: discount factor gamma\n",
    "    \n",
    "    Returns:\n",
    "        a tuple (policy, V) consisting of\n",
    "        the optimal policy\n",
    "        and the respective value function\n",
    "    \"\"\"\n",
    "    \n",
    "    V = deepcopy(V_init)\n",
    "\n",
    "    while True:\n",
    "        delta = 0\n",
    "        for s in range(env.observation_space.n):\n",
    "            # this computes the value of all actions\n",
    "            A = one_step_lookahead(env, s, V, gamma)\n",
    "            \n",
    "            # this computes the best value achievable in 's'\n",
    "            best_action_value = np.max(A)\n",
    "            \n",
    "            # how much difference is there to the current estimate?\n",
    "            delta = max(delta, np.abs(best_action_value - V[s]))\n",
    "            \n",
    "            # update the current estimate\n",
    "            V[s] = best_action_value\n",
    "        if delta < theta:\n",
    "            break\n",
    "    # here, V is a good estimation of the optimal value function\n",
    "            \n",
    "    # we can now create a deterministic optimal policy from the optimal value function\n",
    "    policy = dict()\n",
    "    for s in range(env.observation_space.n):\n",
    "        A = one_step_lookahead(env, s, V, gamma)\n",
    "        optimal_action = np.argmax(A)\n",
    "        policy[s] = np.zeros(env.action_space.n)\n",
    "        policy[s][optimal_action] = 1.0\n",
    "    \n",
    "    return policy, V"
   ]
  },
  {
   "cell_type": "markdown",
   "metadata": {},
   "source": [
    "### Run DP Value Iteration\n",
    "\n",
    "Finally, let's compute the optimal policy by using value iteration. Obviously the result should be very similar to the policy interation algorithm."
   ]
  },
  {
   "cell_type": "code",
   "execution_count": 13,
   "metadata": {},
   "outputs": [
    {
     "name": "stdout",
     "output_type": "stream",
     "text": [
      "\n",
      "Policy computed via the value iteration algorithm:\n",
      "\n",
      "[['U' 'R' 'R' 'R' 'R' 'R' 'R' 'R']\n",
      " ['U' 'U' 'U' 'U' 'U' 'U' 'U' 'R']\n",
      " ['L' 'U' 'L' 'H' 'R' 'U' 'R' 'R']\n",
      " ['L' 'L' 'L' 'D' 'L' 'H' 'R' 'R']\n",
      " ['L' 'U' 'L' 'H' 'R' 'D' 'U' 'R']\n",
      " ['L' 'H' 'H' 'D' 'U' 'L' 'H' 'R']\n",
      " ['L' 'H' 'D' 'L' 'H' 'L' 'H' 'R']\n",
      " ['L' 'D' 'L' 'H' 'D' 'R' 'D' 'G']]\n",
      "\n",
      "and the respective value function:\n",
      "\n",
      "[[0.8926 0.8953 0.8993 0.9039 0.9087 0.9138 0.9186 0.9224]\n",
      " [0.892  0.894  0.8974 0.9017 0.9065 0.9117 0.9176 0.9252]\n",
      " [0.8766 0.8623 0.8188 0.     0.7777 0.8653 0.909  0.9307]\n",
      " [0.8638 0.8115 0.6993 0.4206 0.5637 0.     0.8816 0.939 ]\n",
      " [0.8537 0.7109 0.4696 0.     0.4946 0.5684 0.7992 0.9502]\n",
      " [0.8461 0.     0.     0.1527 0.3531 0.413  0.     0.9642]\n",
      " [0.841  0.     0.1642 0.1055 0.     0.3188 0.     0.9811]\n",
      " [0.8385 0.6121 0.3876 0.     0.2718 0.5443 0.7715 0.    ]]\n",
      "\n",
      "The same information, graphically represented:\n",
      "\n"
     ]
    },
    {
     "data": {
      "image/png": "[encoded data removed]",
      "text/plain": [
       "<Figure size 432x288 with 1 Axes>"
      ]
     },
     "metadata": {
      "needs_background": "light"
     },
     "output_type": "display_data"
    },
    {
     "data": {
      "image/png": "[encoded data removed]",
      "text/plain": [
       "<Figure size 432x288 with 2 Axes>"
      ]
     },
     "metadata": {
      "needs_background": "light"
     },
     "output_type": "display_data"
    }
   ],
   "source": [
    "# let's redo the above with value iteration...\n",
    "V_init = gridworld_initial_value_function(lake_env)\n",
    "policy, V = dp_value_iteration(lake_env, V_init, gamma=0.999)\n",
    "\n",
    "print(\"\\nPolicy computed via the value iteration algorithm:\\n\")\n",
    "gridworld_print_deterministic_policy(lake_env, policy)\n",
    "\n",
    "print(\"\\nand the respective value function:\\n\")\n",
    "gridworld_print_value_function(lake_env, V)\n",
    "\n",
    "print(\"\\nThe same information, graphically represented:\\n\")\n",
    "gridworld_plot_policy(lake_env, policy)\n",
    "gridworld_plot_value_function(lake_env, V)"
   ]
  },
  {
   "cell_type": "markdown",
   "metadata": {},
   "source": [
    "# Part 2: Blackjack - A Model-free Environment, Monte Carlo Methods\n",
    "\n",
    "Let us now try Monte Carlo methods on an environment where it is very hard to use Dynamic Programming. We will use the game of Black Jack, as mentioned in the lecture, and as it is described in the book. The reason, why it is \"very hard\" to use DP for Blackjack, is that we would have to compute all the state transition probabilities by hand. This is a *bit tricky*, depending on the number of decks used. Instead of doing this, we'll simply use the computer to do very simple things (simulate/play a lot of games), very fast.\n",
    "\n",
    "<div class=\"alert alert-info\">\n",
    "\n",
    "The following description is adapted from the <a href=\"https://github.com/openai/gym/blob/master/gym/envs/toy_text/blackjack.py\">environment description</a>:\n",
    "\n",
    "    Blackjack is a card game where the goal is to obtain cards that sum to as\n",
    "    near as possible to 21 without going over. Agents are playing against a \"dealer\"\n",
    "    that follows a fixed strategy.\n",
    "    \n",
    "    Face cards (Jack, Queen, King) have point value 10.\n",
    "    Aces can either count as 11 or 1, and it's called 'usable' at 11.\n",
    "    \n",
    "    This game is played with an infinite deck (drawing with replacement).\n",
    "    The game starts with each (player and dealer) having one face up and one\n",
    "    face down card.\n",
    "    \n",
    "    The player can request additional cards (hit=1) until they decide to stop\n",
    "    (stick=0) or exceed 21 (bust).\n",
    "    \n",
    "    After the player sticks, the dealer reveals their facedown card, and draws\n",
    "    until their sum is 17 or greater.\n",
    "    \n",
    "    If the dealer goes bust the player wins.\n",
    "    If neither player nor dealer busts, the outcome (win, lose, draw) is\n",
    "    decided by whose sum is closer to 21.\n",
    "    \n",
    "    The reward for winning is +1, drawing is 0, and losing is -1.\n",
    "    \n",
    "    The observation is a 3-tuple of:\n",
    "    \n",
    "    the players current sum,\n",
    "    the dealer's one showing card (1-10 where 1 is ace),\n",
    "    and whether or not the player holds a usable ace (0 or 1).\n",
    "    \n",
    "    This environment corresponds to the version of the blackjack problem\n",
    "    described in Example 5.1 in Reinforcement Learning: An Introduction\n",
    "    by Sutton and Barto."
   ]
  },
  {
   "cell_type": "markdown",
   "metadata": {},
   "source": [
    "<h2>Preliminaries</h2>\n",
    "\n",
    "What follows are the imports, the generation of the environment and some helper functions."
   ]
  },
  {
   "cell_type": "code",
   "execution_count": 14,
   "metadata": {},
   "outputs": [],
   "source": [
    "import numpy as np\n",
    "import gym\n",
    "\n",
    "np.set_printoptions(precision=4)\n",
    "np.set_printoptions(suppress=True)"
   ]
  },
  {
   "cell_type": "markdown",
   "metadata": {},
   "source": [
    "## Quickstart\n",
    "Here we give you a few hints on how to use the Blackjack Environment, what the data formats look like, etc."
   ]
  },
  {
   "cell_type": "code",
   "execution_count": 15,
   "metadata": {},
   "outputs": [
    {
     "name": "stdout",
     "output_type": "stream",
     "text": [
      "We know the size of the action space: 2\n",
      "This is what a state looks like: (16, 5, False)\n"
     ]
    }
   ],
   "source": [
    "# let's load the Blackjack Environment\n",
    "blackjack_env = gym.make('Blackjack-v0')\n",
    "state = blackjack_env.reset()\n",
    "\n",
    "# this environment has no render function\n",
    "# it does also not give access to the dynamics or the size of the state space\n",
    "# so there is no way we can use dynamic programming here, we are forced to use model-free methods\n",
    "\n",
    "# the only thing we know is the size of the action space:\n",
    "print('We know the size of the action space:', blackjack_env.action_space.n)\n",
    "\n",
    "# and what we can also get is the current state\n",
    "print('This is what a state looks like: ' + str(state))\n",
    "\n",
    "# when we reset the environment, our hand (the first two cards) and the dealer's hand are dealt\n",
    "# then the game begins... (so everytime you run env.reset(), the game will re-deal the first hands)"
   ]
  },
  {
   "cell_type": "markdown",
   "metadata": {},
   "source": [
    "## Some Helper Functions\n",
    "\n",
    "What follows are functions that are very helpful with MC implementations: plotting functions for the value functions and the policy, and function to generate basic policies."
   ]
  },
  {
   "cell_type": "code",
   "execution_count": 16,
   "metadata": {},
   "outputs": [],
   "source": [
    "# we include here the example policy that was also used for the plots in class:\n",
    "def blackjack_example_policy():\n",
    "    \"\"\"\n",
    "    Create a policy that sticks if the player score is >= 20 and hits otherwise.\n",
    "    \"\"\"\n",
    "    policy = dict()\n",
    "    for score in range(4, 22):  # 4 - 21\n",
    "        for dealer_score in range(1, 11):  # 1 - 10\n",
    "            for useable_ace in [True, False]:\n",
    "                observation = (score, dealer_score, useable_ace)\n",
    "                if score >= 20:\n",
    "                    policy[observation] = np.array([1.0, 0.0])\n",
    "                else:\n",
    "                    policy[observation] = np.array([0.0, 1.0])\n",
    "    return policy\n",
    "\n",
    "# and the random policy\n",
    "def blackjack_random_policy():\n",
    "    \"\"\"\n",
    "    Create the random policy.\n",
    "    \"\"\"\n",
    "    policy = dict()\n",
    "    \n",
    "    for score in range(4, 22):\n",
    "        for dealer_score in range(1, 11):\n",
    "            for useable_ace in [True, False]:\n",
    "                observation = (score, dealer_score, useable_ace)\n",
    "                policy[observation] = np.array([0.5, 0.5])\n",
    "    return policy\n",
    "\n",
    "\n",
    "# Plot the Value Function\n",
    "def blackjack_plot_value_function(V, title=\"Value Function\"):\n",
    "    \"\"\"\n",
    "    Plots the value function\n",
    "    \"\"\"\n",
    "    min_x = min((k[0] for k in V.keys()))\n",
    "    max_x = max((k[0] for k in V.keys()))\n",
    "    min_y = min((k[1] for k in V.keys()))\n",
    "    max_y = max((k[1] for k in V.keys()))\n",
    "\n",
    "    x_range = np.arange(min_x, max_x + 1)\n",
    "    y_range = np.arange(min_y, max_y + 1)\n",
    "    X, Y = np.meshgrid(x_range, y_range)\n",
    "\n",
    "    # Find value for all (x, y) coordinates\n",
    "    Z_noace = np.apply_along_axis(lambda _: V[(_[0], _[1], False)], 2, np.dstack([X, Y]))\n",
    "    Z_ace = np.apply_along_axis(lambda _: V[(_[0], _[1], True)], 2, np.dstack([X, Y]))\n",
    "\n",
    "    plt.set_cmap('RdBu_r')\n",
    "    \n",
    "    fig, ax = plt.subplots(2, figsize=(15,15))\n",
    "    heatmap = ax[0].pcolor(Z_ace, vmin=-1., vmax=1.)\n",
    "    cbar = fig.colorbar(heatmap, ax=ax[0])\n",
    "    \n",
    "    ax[0].set_xticks(np.arange(Z_ace.shape[1]) + 0.5)\n",
    "    ax[0].set_yticks(np.arange(Z_ace.shape[0]) + 0.5)                              \n",
    "    ax[0].set_xticklabels(x_range)\n",
    "    ax[0].set_yticklabels(y_range)\n",
    "    \n",
    "    ax[0].set_title(title + ' (useable ace)')\n",
    "    ax[0].set_ylabel(\"Dealer showing\")\n",
    "    ax[0].set_xlabel(\"Player sum\")\n",
    "    \n",
    "    heatmap = ax[1].pcolor(Z_noace, vmin=-1., vmax=1.)\n",
    "    cbar = fig.colorbar(heatmap, ax=ax[1])\n",
    "    \n",
    "    ax[1].set_xticks(np.arange(Z_noace.shape[1]) + 0.5)\n",
    "    ax[1].set_yticks(np.arange(Z_noace.shape[0]) + 0.5)\n",
    "    ax[1].set_xticklabels(x_range)\n",
    "    ax[1].set_yticklabels(y_range)\n",
    "    \n",
    "    ax[1].set_title(title + ' (no ace)')\n",
    "    ax[1].set_ylabel(\"Dealer showing\")\n",
    "    ax[1].set_xlabel(\"Player sum\")\n",
    "    \n",
    "    plt.subplots_adjust(hspace=0.3)\n",
    "    \n",
    "    plt.show()\n",
    "\n",
    "    \n",
    "# Plot the Policy; it will be plotted as a deterministic policy, taking the argmax\n",
    "def blackjack_plot_policy(policy, title=\"Policy\"):\n",
    "    \"\"\"\n",
    "    Plots the policy\n",
    "    \"\"\"\n",
    "    \n",
    "    min_x = min(k[0] for k in policy.keys())\n",
    "    max_x = max(k[0] for k in policy.keys())\n",
    "    min_y = min(k[1] for k in policy.keys())\n",
    "    max_y = max(k[1] for k in policy.keys())\n",
    "\n",
    "    x_range = np.arange(min_x, max_x + 1)\n",
    "    y_range = np.arange(min_y, max_y + 1)\n",
    "    X, Y = np.meshgrid(x_range, y_range)\n",
    "    \n",
    "    Z_noace = np.apply_along_axis(lambda _: np.argmax(policy[(_[0], _[1], False)]), 2, np.dstack([X, Y]))\n",
    "    Z_ace = np.apply_along_axis(lambda _: np.argmax(policy[(_[0], _[1], True)]), 2, np.dstack([X, Y]))\n",
    "    \n",
    "    fig, ax = plt.subplots(2, figsize=(15,15))\n",
    "    heatmap = ax[0].pcolor(Z_ace, cmap='Blues', vmin=0, vmax=1.)\n",
    "    \n",
    "    ax[0].set_xticks(np.arange(Z_ace.shape[1]) + 0.5)\n",
    "    ax[0].set_yticks(np.arange(Z_ace.shape[0]) + 0.5)                              \n",
    "    ax[0].set_xticklabels(x_range)\n",
    "    ax[0].set_yticklabels(y_range)\n",
    "    \n",
    "    ax[0].set_title(title + ' (useable ace), Blue means get another card')\n",
    "    ax[0].set_ylabel(\"Dealer showing\")\n",
    "    ax[0].set_xlabel(\"Player sum\")\n",
    "    \n",
    "    heatmap = ax[1].pcolor(Z_noace, cmap='Blues', vmin=0, vmax=1.)\n",
    "    \n",
    "    ax[1].set_xticks(np.arange(Z_noace.shape[1]) + 0.5)\n",
    "    ax[1].set_yticks(np.arange(Z_noace.shape[0]) + 0.5)\n",
    "    ax[1].set_xticklabels(x_range)\n",
    "    ax[1].set_yticklabels(y_range)\n",
    "    \n",
    "    ax[1].set_title(title + ' (no ace), Blue means get another card')\n",
    "    ax[1].set_ylabel(\"Dealer showing\")\n",
    "    ax[1].set_xlabel(\"Player sum\")\n",
    "    \n",
    "    plt.subplots_adjust(hspace=0.3)\n",
    "    \n",
    "    plt.show()"
   ]
  },
  {
   "cell_type": "markdown",
   "metadata": {},
   "source": [
    "### Storing the Policy and the Value Function"
   ]
  },
  {
   "cell_type": "code",
   "execution_count": 17,
   "metadata": {},
   "outputs": [
    {
     "name": "stdout",
     "output_type": "stream",
     "text": [
      "The first 10x2 state-action pairs from the example policy:\n",
      "\n",
      "[((4, 1, True), array([0., 1.])),\n",
      " ((4, 1, False), array([0., 1.])),\n",
      " ((4, 2, True), array([0., 1.])),\n",
      " ((4, 2, False), array([0., 1.])),\n",
      " ((4, 3, True), array([0., 1.])),\n",
      " ((4, 3, False), array([0., 1.])),\n",
      " ((4, 4, True), array([0., 1.])),\n",
      " ((4, 4, False), array([0., 1.])),\n",
      " ((4, 5, True), array([0., 1.])),\n",
      " ((4, 5, False), array([0., 1.]))]\n"
     ]
    }
   ],
   "source": [
    "# let's create the example policy (it's bad, b/c we 'hit' until 20)\n",
    "policy = blackjack_example_policy()\n",
    "\n",
    "# it's not very useful to look at it this way, but we'll have\n",
    "# a nicer graphical representation later on\n",
    "print(\"The first 10x2 state-action pairs from the example policy:\\n\")\n",
    "pprint(list(policy.items())[0:10])"
   ]
  },
  {
   "cell_type": "markdown",
   "metadata": {},
   "source": [
    "## Monte Carlo Evaluation\n",
    "To get started, we implement the every-visit MC policy evaluation algorithm."
   ]
  },
  {
   "cell_type": "markdown",
   "metadata": {},
   "source": [
    "### A note on Pseudo Random Number Generators (PRNGs)\n",
    "To obtain truly random numbers on a computer, which is actually (and hopefully!) a deterministic automaton, is a bit difficult. We have to resort to so-called \"Pseudo-Random\" numbers. Those are numbers that, for all intents and purposes, **appear** random. What this means is, that if we generate a lot of these pseudo random numbers, they are (almost) **indistinguishable** from **real random numbers**. See [here](https://www.random.org/analysis/) for some truly random numbers, and [here](https://en.wikipedia.org/wiki/Randomness_tests) for a primer and some links on how to test PRNGs.\n",
    "\n",
    "Different PRNGs have different statistical properties. **numpy** recently changed their recommendations for a default PRNG, which should be accessed like so:"
   ]
  },
  {
   "cell_type": "code",
   "execution_count": 18,
   "metadata": {},
   "outputs": [
    {
     "name": "stdout",
     "output_type": "stream",
     "text": [
      "[1 4 4 1 4 3 4 1 2 1 3 2 1 2 2 4 4 2 4 1]\n",
      "[3 3 1 1 1 2 4 3 1 1 1 2 1 4 1 1 4 1 4 3]\n"
     ]
    }
   ],
   "source": [
    "import numpy as np\n",
    "rng = np.random.default_rng()  # this get some real entropy(tm), and seeds a PRNG with nice properties\n",
    "\n",
    "n_samples = 20\n",
    "\n",
    "# let's simulate randomly choosing from 4 integers, 20 times in a row:\n",
    "print(rng.choice([1, 2, 3, 4], size=n_samples))\n",
    "\n",
    "# let's sample from a list of integers with certain probabilities 'ps', 20 times in a row\n",
    "ps = [0.5, 0.2, 0.1, 0.2]\n",
    "print(rng.choice([1, 2, 3, 4], size=n_samples, p=ps))"
   ]
  },
  {
   "cell_type": "code",
   "execution_count": 19,
   "metadata": {},
   "outputs": [],
   "source": [
    "from collections import defaultdict\n",
    "\n",
    "# some helper functions that define epsilon greedy policies from Q values\n",
    "def eps_greedy_from_qs(rng, qs, epsilon):\n",
    "    # this breaks ties uniformly at random (if qs are all equal)\n",
    "    optimal_actions = np.argwhere(qs == np.amax(qs))\n",
    "    \n",
    "    # choose any of the optimal actions uniformly at random\n",
    "    optimal_action = rng.choice(optimal_actions)\n",
    "    \n",
    "    # build an eps-soft policy:\n",
    "    \n",
    "    # compute eps/A(s)\n",
    "    eps_p = epsilon / len(qs)\n",
    "    \n",
    "    # fill empty array of the same shape as 'qs' with eps/|A(s)|\n",
    "    ps = np.full_like(qs, eps_p)\n",
    "    \n",
    "    # assign most probability mass to optimal action\n",
    "    ps[optimal_action] += 1 - epsilon\n",
    "    return ps\n",
    "\n",
    "\n",
    "def eps_greedy_from_Q(rng, Q, epsilon):\n",
    "    policy = dict()\n",
    "    for state, qs in Q.items():\n",
    "        policy[state] = eps_greedy_from_qs(rng, qs, epsilon)\n",
    "    return policy\n",
    "\n",
    "\n",
    "def mc_policy_evaluation(env, policy, num_episodes, gamma=0.999):\n",
    "    \"\"\"\n",
    "    Monte Carlo prediction algorithm, which calculates the value function\n",
    "    for a given policy\n",
    "    \n",
    "    Args:\n",
    "        env: the openai gym environment\n",
    "        policy: the policy to be evaluated\n",
    "        num_episodes: number of episodes to sample\n",
    "        discount_factor: Lambda discount factor.\n",
    "    \n",
    "    Returns:\n",
    "        the value function\n",
    "    \"\"\"\n",
    "\n",
    "    # a defaultdict is a very useful datastructure, that let's us\n",
    "    # define default values for keys that have not explicitely been\n",
    "    # used yet. the default value is given by a lambda expression,\n",
    "    # that returns a constant 0. whatever non-existant key we lookup\n",
    "    # in this dictionary is going to be associated with 0.\n",
    "    V = defaultdict(lambda: 0.)\n",
    "\n",
    "    # a note on the value function:\n",
    "    # the value function must be stored in a defaultdict, where the key is a tuple of\n",
    "    # (player_sum, dealer_sum, useable_ace), and the value is the value of this state\n",
    "    # for example:\n",
    "    #\n",
    "    #     defaultdict(float,\n",
    "    #             {(21, 10, True): 0.8863134657836644,\n",
    "    #              (7, 10, False): -0.563816604708798,\n",
    "    #              (11, 10, False): -0.10879368658399098,\n",
    "    #              (20, 10, False): 0.43548387096774194,\n",
    "    #              (13, 7, True): -0.3431372549019608,\n",
    "    #              (12, 7, False): -0.5573080967402734,\n",
    "    #              (21, 7, False): 0.9257294429708223,\n",
    "    #              (13, 6, False): -0.5404255319148936,\n",
    "    #              (19, 6, False): -0.6908077994428969,\n",
    "    #              ...})\n",
    "\n",
    "    # let's get a random number generator, seeded with real entropy\n",
    "    rng = np.random.default_rng()\n",
    "    \n",
    "    returns_sum = defaultdict(lambda: 0.)\n",
    "    returns_count = defaultdict(lambda: 0.)\n",
    "        \n",
    "    for i_episode in range(1, num_episodes + 1):\n",
    "        # print out which episode we're on, useful for debugging.\n",
    "        if i_episode % 10000 == 0:\n",
    "            print(\"\\rEpisode {}/{}.\".format(i_episode, num_episodes))\n",
    "\n",
    "        # generate an episode.\n",
    "        # an episode is a list of (state, action, reward) tuples\n",
    "        episode = []\n",
    "        state = env.reset()\n",
    "        actions = np.arange(env.action_space.n)\n",
    "        while(True):\n",
    "            # sample from the policy:\n",
    "            # sample from a discrete distribution, with probabilities 'p' given by the policy\n",
    "            action = rng.choice(actions, p=policy[state])\n",
    "            next_state, reward, done, _ = env.step(action)\n",
    "            episode.append((state, action, reward))\n",
    "            if done:\n",
    "                break\n",
    "            state = next_state\n",
    "\n",
    "        # update values for all states encountered in this episode\n",
    "        T = len(episode)\n",
    "        # this loops over T-1, T-2, ..., 0\n",
    "        G = 0\n",
    "        for t in range(T-1, -1, -1):\n",
    "            # reward is always from the transition from s via a to s'\n",
    "            # it is \"R_{t+1}\" in the description of the algorithm in the book\n",
    "            s, a, r = episode[t]\n",
    "            G = gamma * G + r\n",
    "            returns_sum[s] += G\n",
    "            returns_count[s] += 1.\n",
    "            V[s] = returns_sum[s] / returns_count[s]\n",
    "\n",
    "    return V"
   ]
  },
  {
   "cell_type": "markdown",
   "metadata": {},
   "source": [
    "### Run MC Policy Evaluation for Black Jack\n",
    "Okay, let's now run the MC policy evaluation algorithm on the Blackjack environment. You already know from the lecture slides what the output should roughly look like."
   ]
  },
  {
   "cell_type": "code",
   "execution_count": 20,
   "metadata": {},
   "outputs": [
    {
     "name": "stdout",
     "output_type": "stream",
     "text": [
      "Episode 10000/50000.\n",
      "Episode 20000/50000.\n",
      "Episode 30000/50000.\n",
      "Episode 40000/50000.\n",
      "Episode 50000/50000.\n"
     ]
    },
    {
     "data": {
      "text/plain": [
       "<Figure size 432x288 with 0 Axes>"
      ]
     },
     "metadata": {},
     "output_type": "display_data"
    },
    {
     "data": {
      "image/png": "[encoded data removed]",
      "text/plain": [
       "<Figure size 1080x1080 with 4 Axes>"
      ]
     },
     "metadata": {
      "needs_background": "light"
     },
     "output_type": "display_data"
    }
   ],
   "source": [
    "num_episodes = 50000\n",
    "\n",
    "# let's create the example policy\n",
    "policy = blackjack_example_policy()\n",
    "\n",
    "# and now let's see how good our policy is\n",
    "policy_value = mc_policy_evaluation(blackjack_env, policy, num_episodes=num_episodes)\n",
    "\n",
    "# this plots a graphical representation of the value function\n",
    "blackjack_plot_value_function(policy_value, title=\"Value Function after {} Episodes\".format(num_episodes))"
   ]
  },
  {
   "cell_type": "markdown",
   "metadata": {},
   "source": [
    "## Monte Carlo Control\n",
    "We will now implement the on-policy, every-visit MC control algorithm for ε-soft policies."
   ]
  },
  {
   "cell_type": "code",
   "execution_count": 21,
   "metadata": {},
   "outputs": [],
   "source": [
    "def mc_control_epsilon_greedy(env, num_episodes=100, gamma=0.999, epsilon=0.5):\n",
    "    \"\"\"\n",
    "    On-policy every-visit MC control algorithm for ε-soft policies\n",
    "    Computes an optimal epsilon-greedy policy.\n",
    "    \n",
    "    Args:\n",
    "        env: the openai gym environment\n",
    "        num_episodes: number of episodes to sample\n",
    "        gamma: the discount factor\n",
    "        epsilon: chance to sample a random action\n",
    "    \n",
    "    Returns:\n",
    "        a tuple (policy, Q)\n",
    "        policy is a dict containing an epsilon greedy policy\n",
    "        Q is a dict containing the state-action values\n",
    "\"\"\"\n",
    "    # get a good PRNG\n",
    "    rng = np.random.default_rng()\n",
    "\n",
    "    # keeps track of sum and count of returns for each state\n",
    "    # to calculate an average.\n",
    "    returns_sum = defaultdict(lambda: 0.)\n",
    "    returns_count = defaultdict(lambda: 0.)\n",
    "    \n",
    "    # The action-value function estimate Q is a dictionary that holds arrays with action-values:\n",
    "    # A nested dictionary that maps state -> (action -> action-value)\n",
    "    Q = defaultdict(lambda: np.zeros(env.action_space.n))\n",
    "    actions = np.arange(env.action_space.n)\n",
    "    for i_episode in range(1, num_episodes + 1):\n",
    "        # Print out which episode we're on, useful for debugging.\n",
    "        if i_episode % 10000 == 0:\n",
    "            print(\"\\rEpisode {}/{}.\".format(i_episode, num_episodes))\n",
    "\n",
    "        # generate an episode:\n",
    "        # an episode is an array of (state, action, reward) tuples\n",
    "        episode = []\n",
    "        state = env.reset()\n",
    "        while(True):\n",
    "            probs = eps_greedy_from_qs(rng, Q[state], epsilon)\n",
    "            action = rng.choice(actions, p=probs)\n",
    "            next_state, reward, done, _ = env.step(action)\n",
    "            episode.append((state, action, reward))\n",
    "            if done:\n",
    "                break\n",
    "            state = next_state\n",
    "\n",
    "        # loop over all (state, action) pairs that we've visited in this episode\n",
    "        T = len(episode)\n",
    "        # this loops over T-1, T-2, ..., 0\n",
    "        G = 0\n",
    "        for t in range(T-1, -1, -1):\n",
    "            # reward is always from the transition from s via a to s' (r_{t+1} in the algorithm in the book)\n",
    "            s, a, r = episode[t]\n",
    "            G = gamma * G + r\n",
    "            \n",
    "            # we convert each state to a tuple so that we can use it as a dict key\n",
    "            s_a = (s, a)\n",
    "            returns_sum[s_a] += G\n",
    "            returns_count[s_a] += 1.\n",
    "            Q[s][a] = returns_sum[s_a] / returns_count[s_a]\n",
    "    \n",
    "    # after this call, there might be states missing, as not all were explored:\n",
    "    possibly_incomplete_policy = eps_greedy_from_Q(rng, Q, epsilon)\n",
    "    \n",
    "    # if we have not encountered a state yet, behave randomly\n",
    "    policy = defaultdict(lambda: np.ones(env.action_space.n) / env.action_space.n)\n",
    "    \n",
    "    # fill in what we know from the possibly incomplete policy:\n",
    "    policy.update(possibly_incomplete_policy)\n",
    "    return policy, Q"
   ]
  },
  {
   "cell_type": "markdown",
   "metadata": {},
   "source": [
    "### Run MC Control for Black Jack\n",
    "Finally, let's compute a better policy for the Black Jack game. One hint: the results may differ slightly from the lecture slides. They will also be different from the optimal policies in the book, as the ones in the book were computed with 'Exploring Starts'. Do not worry too much about it, but you can always try with a few more samples..."
   ]
  },
  {
   "cell_type": "code",
   "execution_count": 22,
   "metadata": {},
   "outputs": [
    {
     "name": "stdout",
     "output_type": "stream",
     "text": [
      "Episode 10000/50000.\n",
      "Episode 20000/50000.\n",
      "Episode 30000/50000.\n",
      "Episode 40000/50000.\n",
      "Episode 50000/50000.\n",
      "Episode 10000/50000.\n",
      "Episode 20000/50000.\n",
      "Episode 30000/50000.\n",
      "Episode 40000/50000.\n",
      "Episode 50000/50000.\n"
     ]
    },
    {
     "data": {
      "image/png": "[encoded data removed]",
      "text/plain": [
       "<Figure size 1080x1080 with 2 Axes>"
      ]
     },
     "metadata": {
      "needs_background": "light"
     },
     "output_type": "display_data"
    },
    {
     "data": {
      "text/plain": [
       "<Figure size 432x288 with 0 Axes>"
      ]
     },
     "metadata": {},
     "output_type": "display_data"
    },
    {
     "data": {
      "image/png": "[encoded data removed]",
      "text/plain": [
       "<Figure size 1080x1080 with 4 Axes>"
      ]
     },
     "metadata": {
      "needs_background": "light"
     },
     "output_type": "display_data"
    }
   ],
   "source": [
    "num_episodes = 50000  # set this to 10 ** 5 to get close to a nice policy\n",
    "gamma = 0.999\n",
    "\n",
    "# and now run our MC control algorithm\n",
    "policy, Q = mc_control_epsilon_greedy(blackjack_env, num_episodes=num_episodes, gamma=gamma, epsilon=0.1)\n",
    "\n",
    "# determine how good our policy is\n",
    "policy_value = mc_policy_evaluation(blackjack_env, policy, num_episodes=num_episodes, gamma=gamma)\n",
    "\n",
    "# plot the policy\n",
    "blackjack_plot_policy(policy)\n",
    "\n",
    "# and its associated value function\n",
    "blackjack_plot_value_function(policy_value)"
   ]
  },
  {
   "cell_type": "markdown",
   "metadata": {},
   "source": [
    "# Part 3: Frozen Lake Revisited (with Monte Carlo)\n",
    "We will now go back to the Frozen Lake and run the MC algorithms on this problem. To do so, we need a few convenience function for converting the evaluation function and policy (a dict in the MC algorithms) to arrays, for outputting the data in the same way as with DP.\n",
    "\n",
    "Spoiler Alert: These experiments will be a bit disappointing... but for some reasons MC does not work well on this problem instance. Why? (You will have to answer this question soon...)\n",
    "\n",
    "Thus, we will use a smaller version of the frozen lake:\n",
    "\n",
    "<pre><code>\n",
    "SFFF\n",
    "FHFH\n",
    "FFFH\n",
    "HFFG\n",
    "</code>\n",
    "</pre>\n",
    "\n",
    "All the rules stay the same."
   ]
  },
  {
   "cell_type": "markdown",
   "metadata": {},
   "source": [
    "## Run MC Evaluation on the Frozen Lake (small)"
   ]
  },
  {
   "cell_type": "markdown",
   "metadata": {},
   "source": [
    "### MC Evaluation on the Small Lake"
   ]
  },
  {
   "cell_type": "code",
   "execution_count": 23,
   "metadata": {},
   "outputs": [
    {
     "name": "stdout",
     "output_type": "stream",
     "text": [
      "\n",
      "\u001b[41mS\u001b[0mFFF\n",
      "FHFH\n",
      "FFFH\n",
      "HFFG\n",
      "\n",
      "The Value Function of the random policy, according to MC:\n",
      "\n",
      "[[0.0144 0.0122 0.0152 0.    ]\n",
      " [0.0126 0.     0.0275 0.    ]\n",
      " [0.0211 0.0835 0.1205 0.    ]\n",
      " [0.     0.1522 0.4897 0.    ]]\n"
     ]
    },
    {
     "data": {
      "image/png": "[encoded data removed]",
      "text/plain": [
       "<Figure size 432x288 with 2 Axes>"
      ]
     },
     "metadata": {
      "needs_background": "light"
     },
     "output_type": "display_data"
    },
    {
     "name": "stdout",
     "output_type": "stream",
     "text": [
      "\n",
      "The Value Function of the random policy, according to DP:\n",
      "\n",
      "[[0.0138 0.0115 0.0208 0.0104]\n",
      " [0.0161 0.     0.0406 0.    ]\n",
      " [0.0346 0.0878 0.1416 0.    ]\n",
      " [0.     0.1753 0.4387 0.    ]]\n"
     ]
    },
    {
     "data": {
      "image/png": "[encoded data removed]",
      "text/plain": [
       "<Figure size 432x288 with 2 Axes>"
      ]
     },
     "metadata": {
      "needs_background": "light"
     },
     "output_type": "display_data"
    }
   ],
   "source": [
    "num_episodes = 1000  # set this to 50000 for better approximation\n",
    "\n",
    "# we start with the smaller lake\n",
    "small_lake_env = gym.make('FrozenLake-v0')\n",
    "small_lake_env.reset()\n",
    "small_lake_env.render()\n",
    "\n",
    "# let's create a random policy\n",
    "policy = gridworld_random_policy(small_lake_env)\n",
    "\n",
    "# and now let's see how good our policy is\n",
    "V_dict = mc_policy_evaluation(small_lake_env, policy, num_episodes, gamma=0.999)\n",
    "\n",
    "# print the value function\n",
    "print(\"\\nThe Value Function of the random policy, according to MC:\\n\")\n",
    "gridworld_print_value_function(small_lake_env, V_dict)\n",
    "gridworld_plot_value_function(small_lake_env, V_dict, 0, 1)\n",
    "\n",
    "# what does DP have to say about this small problem?\n",
    "V_init = gridworld_initial_value_function(small_lake_env)\n",
    "V_dict = dp_policy_evaluation(small_lake_env, policy, V_init, gamma=0.999)\n",
    "print(\"\\nThe Value Function of the random policy, according to DP:\\n\")\n",
    "gridworld_print_value_function(small_lake_env, V_dict)\n",
    "gridworld_plot_value_function(small_lake_env, V_dict, 0, 1)"
   ]
  },
  {
   "cell_type": "markdown",
   "metadata": {},
   "source": [
    "### MC Evaluation on the Larger Lake"
   ]
  },
  {
   "cell_type": "code",
   "execution_count": 24,
   "metadata": {},
   "outputs": [
    {
     "name": "stdout",
     "output_type": "stream",
     "text": [
      "\n",
      "\u001b[41mS\u001b[0mFFFFFFF\n",
      "FFFFFFFF\n",
      "FFFHFFFF\n",
      "FFFFFHFF\n",
      "FFFHFFFF\n",
      "FHHFFFHF\n",
      "FHFFHFHF\n",
      "FFFHFFFG\n",
      "\n",
      "The Value Function of our Policy, according to MC:\n",
      "\n",
      "[[0.0031 0.0022 0.0034 0.007  0.0107 0.0081 0.0136 0.0069]\n",
      " [0.0018 0.0017 0.0026 0.0036 0.0061 0.0172 0.037  0.037 ]\n",
      " [0.0024 0.0033 0.0011 0.     0.0054 0.0057 0.0194 0.0375]\n",
      " [0.0017 0.0033 0.0018 0.0066 0.0234 0.     0.0224 0.0843]\n",
      " [0.0015 0.0041 0.     0.     0.0284 0.0498 0.     0.083 ]\n",
      " [0.     0.     0.     0.     0.     0.0906 0.     0.19  ]\n",
      " [0.     0.     0.     0.     0.     0.2495 0.     0.6356]\n",
      " [0.     0.     0.     0.     0.     0.999  1.     0.    ]]\n"
     ]
    },
    {
     "data": {
      "image/png": "[encoded data removed]",
      "text/plain": [
       "<Figure size 432x288 with 2 Axes>"
      ]
     },
     "metadata": {
      "needs_background": "light"
     },
     "output_type": "display_data"
    },
    {
     "name": "stdout",
     "output_type": "stream",
     "text": [
      "\n",
      "The Value Function of our Policy, according to DP:\n",
      "\n",
      "[[0.0018 0.002  0.0027 0.0039 0.0063 0.0095 0.013  0.0155]\n",
      " [0.0015 0.0017 0.002  0.0029 0.0055 0.0091 0.0142 0.018 ]\n",
      " [0.0011 0.0011 0.001  0.     0.0038 0.0074 0.0166 0.0245]\n",
      " [0.0008 0.0007 0.0007 0.0008 0.0023 0.     0.0203 0.0389]\n",
      " [0.0004 0.0004 0.0003 0.     0.0048 0.0115 0.026  0.0721]\n",
      " [0.0002 0.     0.     0.0014 0.0054 0.0152 0.     0.1517]\n",
      " [0.0001 0.     0.0001 0.0004 0.     0.0441 0.     0.3837]\n",
      " [0.0001 0.     0.     0.     0.0537 0.1614 0.3869 0.    ]]\n"
     ]
    },
    {
     "data": {
      "image/png": "[encoded data removed]",
      "text/plain": [
       "<Figure size 432x288 with 2 Axes>"
      ]
     },
     "metadata": {
      "needs_background": "light"
     },
     "output_type": "display_data"
    }
   ],
   "source": [
    "num_episodes = 1000  # set this to 500000 to see a better approximation\n",
    "\n",
    "# well then, let's see what happens when we apply this method to the larger version:\n",
    "larger_lake_env = gym.make('FrozenLake8x8-v0')\n",
    "larger_lake_env.reset()\n",
    "larger_lake_env.render()\n",
    "\n",
    "# let's create a random policy\n",
    "policy = gridworld_random_policy(larger_lake_env)\n",
    "\n",
    "# and now let's see how good our policy is\n",
    "V = mc_policy_evaluation(larger_lake_env, policy, num_episodes, gamma=0.999)\n",
    "\n",
    "# print the value function\n",
    "print(\"\\nThe Value Function of our Policy, according to MC:\\n\")\n",
    "gridworld_print_value_function(larger_lake_env, V)\n",
    "gridworld_plot_value_function(larger_lake_env, V)\n",
    "\n",
    "# what does DP have to say about this small problem?\n",
    "V_init = gridworld_initial_value_function(larger_lake_env)\n",
    "V = dp_policy_evaluation(larger_lake_env, policy, V_init, gamma=0.999)\n",
    "print(\"\\nThe Value Function of our Policy, according to DP:\\n\")\n",
    "gridworld_print_value_function(larger_lake_env, V)\n",
    "gridworld_plot_value_function(larger_lake_env, V)"
   ]
  },
  {
   "cell_type": "markdown",
   "metadata": {},
   "source": [
    "## Run MC Control on the Frozen Lake"
   ]
  },
  {
   "cell_type": "markdown",
   "metadata": {},
   "source": [
    "### MC Control on the Small Lake"
   ]
  },
  {
   "cell_type": "code",
   "execution_count": 25,
   "metadata": {},
   "outputs": [
    {
     "name": "stdout",
     "output_type": "stream",
     "text": [
      "\n",
      "\u001b[41mS\u001b[0mFFF\n",
      "FHFH\n",
      "FFFH\n",
      "HFFG\n",
      "\n",
      "The policy computed by MC:\n",
      "\n",
      "[['R' 'D' 'R' 'U']\n",
      " ['D' 'H' 'L' 'H']\n",
      " ['U' 'D' 'L' 'H']\n",
      " ['H' 'R' 'R' 'G']]\n"
     ]
    },
    {
     "data": {
      "image/png": "[encoded data removed]",
      "text/plain": [
       "<Figure size 432x288 with 1 Axes>"
      ]
     },
     "metadata": {
      "needs_background": "light"
     },
     "output_type": "display_data"
    },
    {
     "name": "stdout",
     "output_type": "stream",
     "text": [
      "\n",
      "The value function of the MC policy:\n",
      "\n",
      "[[0.1144 0.0945 0.1794 0.1386]\n",
      " [0.1312 0.     0.1718 0.    ]\n",
      " [0.2354 0.3381 0.3349 0.    ]\n",
      " [0.     0.4491 0.6225 0.    ]]\n"
     ]
    },
    {
     "data": {
      "image/png": "[encoded data removed]",
      "text/plain": [
       "<Figure size 432x288 with 2 Axes>"
      ]
     },
     "metadata": {
      "needs_background": "light"
     },
     "output_type": "display_data"
    }
   ],
   "source": [
    "num_episodes = 1000  # set this to 100000 to see better policies\n",
    "\n",
    "# we start with the smaller lake\n",
    "small_lake_env = gym.make('FrozenLake-v0')\n",
    "small_lake_env.reset()\n",
    "small_lake_env.render()\n",
    "\n",
    "# try MC control and evaluation\n",
    "opt_policy_mc, Q_mc = mc_control_epsilon_greedy(small_lake_env, num_episodes, gamma=0.999, epsilon=0.1)\n",
    "\n",
    "V_mc = mc_policy_evaluation(small_lake_env, opt_policy_mc, num_episodes)\n",
    "\n",
    "print(\"\\nThe policy computed by MC:\\n\")\n",
    "gridworld_print_deterministic_policy(small_lake_env, opt_policy_mc)\n",
    "gridworld_plot_policy(small_lake_env, opt_policy_mc)\n",
    "\n",
    "print(\"\\nThe value function of the MC policy:\\n\")\n",
    "gridworld_print_value_function(small_lake_env, V_mc)\n",
    "gridworld_plot_value_function(small_lake_env, V_mc, 0, 1)"
   ]
  },
  {
   "cell_type": "markdown",
   "metadata": {},
   "source": [
    "### Contrast this with the result of DP control"
   ]
  },
  {
   "cell_type": "code",
   "execution_count": 26,
   "metadata": {},
   "outputs": [
    {
     "name": "stdout",
     "output_type": "stream",
     "text": [
      "\n",
      "Policy computed via the value iteration algorithm:\n",
      "\n",
      "[['L' 'U' 'U' 'U']\n",
      " ['L' 'H' 'L' 'H']\n",
      " ['U' 'D' 'L' 'H']\n",
      " ['H' 'R' 'D' 'G']]\n"
     ]
    },
    {
     "data": {
      "image/png": "[encoded data removed]",
      "text/plain": [
       "<Figure size 432x288 with 1 Axes>"
      ]
     },
     "metadata": {
      "needs_background": "light"
     },
     "output_type": "display_data"
    },
    {
     "name": "stdout",
     "output_type": "stream",
     "text": [
      "\n",
      "and the respective value function:\n",
      "\n",
      "[[0.7855 0.7785 0.7739 0.7716]\n",
      " [0.7879 0.     0.5057 0.    ]\n",
      " [0.7926 0.7997 0.7448 0.    ]\n",
      " [0.     0.8641 0.9312 0.    ]]\n"
     ]
    },
    {
     "data": {
      "image/png": "[encoded data removed]",
      "text/plain": [
       "<Figure size 432x288 with 2 Axes>"
      ]
     },
     "metadata": {
      "needs_background": "light"
     },
     "output_type": "display_data"
    }
   ],
   "source": [
    "# compare and contrast this to DP control and evaluation\n",
    "V_init = gridworld_initial_value_function(small_lake_env)\n",
    "opt_policy_dp, V_dp = dp_value_iteration(small_lake_env, V_init, gamma=0.999)\n",
    "\n",
    "print(\"\\nPolicy computed via the value iteration algorithm:\\n\")\n",
    "gridworld_print_deterministic_policy(small_lake_env, opt_policy_dp)\n",
    "gridworld_plot_policy(small_lake_env, opt_policy_dp)\n",
    "\n",
    "print(\"\\nand the respective value function:\\n\")\n",
    "gridworld_print_value_function(small_lake_env, V_dp)\n",
    "gridworld_plot_value_function(small_lake_env, V_dp, 0, 1)"
   ]
  },
  {
   "cell_type": "markdown",
   "metadata": {},
   "source": [
    "### MC Control on the Larger Lake"
   ]
  },
  {
   "cell_type": "code",
   "execution_count": 27,
   "metadata": {},
   "outputs": [
    {
     "name": "stdout",
     "output_type": "stream",
     "text": [
      "\n",
      "\u001b[41mS\u001b[0mFFFFFFF\n",
      "FFFFFFFF\n",
      "FFFHFFFF\n",
      "FFFFFHFF\n",
      "FFFHFFFF\n",
      "FHHFFFHF\n",
      "FHFFHFHF\n",
      "FFFHFFFG\n",
      "\n",
      "The computed Policy:\n",
      "\n",
      "[['D' 'R' 'R' 'R' 'U' 'U' 'L' 'U']\n",
      " ['D' 'R' 'D' 'D' 'D' 'L' 'R' 'L']\n",
      " ['U' 'R' 'U' 'H' 'U' 'R' 'U' 'U']\n",
      " ['R' 'R' 'U' 'D' 'L' 'H' 'U' 'L']\n",
      " ['D' 'L' 'L' 'H' 'D' 'U' 'D' 'R']\n",
      " ['D' 'H' 'H' 'D' 'L' 'R' 'H' 'D']\n",
      " ['D' 'H' 'D' 'L' 'H' 'U' 'H' 'D']\n",
      " ['R' 'R' 'U' 'H' 'L' 'L' 'L' 'G']]\n"
     ]
    },
    {
     "data": {
      "image/png": "[encoded data removed]",
      "text/plain": [
       "<Figure size 432x288 with 1 Axes>"
      ]
     },
     "metadata": {
      "needs_background": "light"
     },
     "output_type": "display_data"
    },
    {
     "name": "stdout",
     "output_type": "stream",
     "text": [
      "\n",
      "The Value Function of our Policy, according to MC:\n",
      "\n",
      "[[0.0031 0.0042 0.0064 0.0081 0.0076 0.0106 0.0157 0.0083]\n",
      " [0.006  0.0045 0.0061 0.0042 0.0061 0.0101 0.0336 0.0245]\n",
      " [0.0034 0.0015 0.0027 0.     0.0059 0.0088 0.0263 0.0336]\n",
      " [0.     0.     0.     0.     0.     0.     0.0451 0.1555]\n",
      " [0.     0.     0.     0.     0.     0.     0.     0.2848]\n",
      " [0.     0.     0.     0.     0.     0.     0.     0.3841]\n",
      " [0.     0.     0.     0.     0.     0.     0.     0.7141]\n",
      " [0.     0.     0.     0.     0.     0.     0.     0.    ]]\n"
     ]
    },
    {
     "data": {
      "image/png": "[encoded data removed]",
      "text/plain": [
       "<Figure size 432x288 with 2 Axes>"
      ]
     },
     "metadata": {
      "needs_background": "light"
     },
     "output_type": "display_data"
    },
    {
     "name": "stdout",
     "output_type": "stream",
     "text": [
      "\n",
      "Policy computed via the value iteration algorithm:\n",
      "\n",
      "[['U' 'R' 'R' 'R' 'R' 'R' 'R' 'R']\n",
      " ['U' 'U' 'U' 'U' 'U' 'U' 'U' 'R']\n",
      " ['L' 'U' 'L' 'H' 'R' 'U' 'R' 'R']\n",
      " ['L' 'L' 'L' 'D' 'L' 'H' 'R' 'R']\n",
      " ['L' 'U' 'L' 'H' 'R' 'D' 'U' 'R']\n",
      " ['L' 'H' 'H' 'D' 'U' 'L' 'H' 'R']\n",
      " ['L' 'H' 'D' 'L' 'H' 'L' 'H' 'R']\n",
      " ['L' 'D' 'L' 'H' 'D' 'R' 'D' 'G']]\n"
     ]
    },
    {
     "data": {
      "image/png": "[encoded data removed]",
      "text/plain": [
       "<Figure size 432x288 with 1 Axes>"
      ]
     },
     "metadata": {
      "needs_background": "light"
     },
     "output_type": "display_data"
    },
    {
     "name": "stdout",
     "output_type": "stream",
     "text": [
      "\n",
      "and the respective value function:\n",
      "\n",
      "[[0.8926 0.8953 0.8993 0.9039 0.9087 0.9138 0.9186 0.9224]\n",
      " [0.892  0.894  0.8974 0.9017 0.9065 0.9117 0.9176 0.9252]\n",
      " [0.8766 0.8623 0.8188 0.     0.7777 0.8653 0.909  0.9307]\n",
      " [0.8638 0.8115 0.6993 0.4206 0.5637 0.     0.8816 0.939 ]\n",
      " [0.8537 0.7109 0.4696 0.     0.4946 0.5684 0.7992 0.9502]\n",
      " [0.8461 0.     0.     0.1527 0.3531 0.413  0.     0.9642]\n",
      " [0.841  0.     0.1642 0.1055 0.     0.3188 0.     0.9811]\n",
      " [0.8385 0.6121 0.3876 0.     0.2718 0.5443 0.7715 0.    ]]\n"
     ]
    },
    {
     "data": {
      "image/png": "[encoded data removed]",
      "text/plain": [
       "<Figure size 432x288 with 2 Axes>"
      ]
     },
     "metadata": {
      "needs_background": "light"
     },
     "output_type": "display_data"
    }
   ],
   "source": [
    "# and now for the bigger problem instance...\n",
    "larger_lake_env = gym.make('FrozenLake8x8-v0')\n",
    "larger_lake_env.reset()\n",
    "larger_lake_env.render()\n",
    "\n",
    "num_episodes = 1000  # set this to 10 ** 6 to see better policies\n",
    "\n",
    "# let's create a random policy\n",
    "policy, Q = mc_control_epsilon_greedy(larger_lake_env, num_episodes, gamma=0.999, epsilon=0.2)\n",
    "\n",
    "print(\"\\nThe computed Policy:\\n\")\n",
    "gridworld_print_deterministic_policy(larger_lake_env, policy)\n",
    "gridworld_plot_policy(larger_lake_env, policy)\n",
    "\n",
    "# and now let's see how good our policy is\n",
    "V = mc_policy_evaluation(larger_lake_env, policy, num_episodes, gamma=0.999)\n",
    "\n",
    "# print the value function\n",
    "print(\"\\nThe Value Function of our Policy, according to MC:\\n\")\n",
    "gridworld_print_value_function(larger_lake_env, V)\n",
    "gridworld_plot_value_function(larger_lake_env, V, 0, 1)\n",
    "\n",
    "# let's compare this to DP...\n",
    "V_init = gridworld_initial_value_function(larger_lake_env)\n",
    "policy, V = dp_value_iteration(larger_lake_env, V_init, gamma=0.999)\n",
    "\n",
    "print(\"\\nPolicy computed via the value iteration algorithm:\\n\")\n",
    "gridworld_print_deterministic_policy(larger_lake_env, policy)\n",
    "gridworld_plot_policy(larger_lake_env, policy)\n",
    "\n",
    "print(\"\\nand the respective value function:\\n\")\n",
    "gridworld_print_value_function(larger_lake_env, V)\n",
    "gridworld_plot_value_function(larger_lake_env, V, 0, 1)"
   ]
  },
  {
   "cell_type": "markdown",
   "metadata": {},
   "source": [
    "## (3.1) Analysis of DP and MC on the Frozen Lake (2 points)\n",
    "\n",
    "Compare DP and MC on the frozen lake problem. Why is MC not working well?"
   ]
  },
  {
   "cell_type": "markdown",
   "metadata": {},
   "source": [
    "It can be observed that MC does not perform or work well on the lake problem as it seems to be stuck in a loop. This is due the value function of the policy, as MC involve samples to update where DP updates involve estimates that use previous estimates. This is why we can see that the MC performes poorly."
   ]
  },
  {
   "cell_type": "markdown",
   "metadata": {},
   "source": [
    "# (4) Temporal Difference Learning\n",
    "You will need to implement evaluation and control algorithms. We will use a package 'gym_gridworlds' here, containing a few extra environments. The directory 'gym_gridworlds' should be a subdirectory of the folder that you started the Jupyter notebook server in."
   ]
  },
  {
   "cell_type": "code",
   "execution_count": 28,
   "metadata": {},
   "outputs": [],
   "source": [
    "import gym_gridworlds\n",
    "np.set_printoptions(linewidth=200)"
   ]
  },
  {
   "cell_type": "markdown",
   "metadata": {},
   "source": [
    "## (4.1) TD(0) policy evaluation\n",
    "Your first task is to implement the TD(0) policy evaluation algorithm."
   ]
  },
  {
   "cell_type": "code",
   "execution_count": 29,
   "metadata": {},
   "outputs": [],
   "source": [
    "def td_policy_evaluation(env, policy, num_episodes, gamma=0.999, alpha=0.1, schedule=False):\n",
    "    V = defaultdict(lambda: 0)\n",
    "    # TODO\n",
    "    for i_episode in range(1, num_episodes + 1):\n",
    "    # print out which episode we're on, useful for debugging.\n",
    "        if i_episode % 100 == 0:\n",
    "            print(\"\\rEpisode {}/{}.\".format(i_episode, num_episodes))\n",
    "        episode = []\n",
    "        state = env.reset()\n",
    "        actions = np.arange(env.action_space.n)\n",
    "        while(True):\n",
    "            # sample from the policy:\n",
    "            # sample from a discrete distribution, with probabilities 'p' given by the policy\n",
    "            action = rng.choice(actions, p=policy[state])\n",
    "            next_state, reward, done, _ = env.step(action)\n",
    "            v = V[state]\n",
    "            v_t1 = V[next_state]\n",
    "            V[state] += alpha * (reward + gamma * v_t1 - v)\n",
    "            episode.append((state, action, reward))\n",
    "            if done:\n",
    "                break\n",
    "            state = next_state\n",
    "        \n",
    "    return V"
   ]
  },
  {
   "cell_type": "markdown",
   "metadata": {},
   "source": [
    "### Now let's try TD(0) to evaluate the random policy"
   ]
  },
  {
   "cell_type": "code",
   "execution_count": 30,
   "metadata": {},
   "outputs": [
    {
     "name": "stdout",
     "output_type": "stream",
     "text": [
      "\n",
      "FFFFFFFFFFFF\n",
      "FFFFFFFFFFFF\n",
      "FFFFFFFFFFFF\n",
      "\u001b[41mS\u001b[0mHHHHHHHHHHG\n",
      "Episode 100/1000.\n",
      "Episode 200/1000.\n",
      "Episode 300/1000.\n",
      "Episode 400/1000.\n",
      "Episode 500/1000.\n",
      "Episode 600/1000.\n",
      "Episode 700/1000.\n",
      "Episode 800/1000.\n",
      "Episode 900/1000.\n",
      "Episode 1000/1000.\n"
     ]
    },
    {
     "data": {
      "image/png": "[encoded data removed]",
      "text/plain": [
       "<Figure size 432x288 with 1 Axes>"
      ]
     },
     "metadata": {
      "needs_background": "light"
     },
     "output_type": "display_data"
    },
    {
     "data": {
      "image/png": "[encoded data removed]",
      "text/plain": [
       "<Figure size 432x288 with 2 Axes>"
      ]
     },
     "metadata": {
      "needs_background": "light"
     },
     "output_type": "display_data"
    }
   ],
   "source": [
    "cliff_env = gym.make('Cliff-v0')\n",
    "cliff_env.render()\n",
    "\n",
    "num_episodes = 1000\n",
    "alpha = 0.9\n",
    "gamma = 0.999\n",
    "epsilon = 0.1\n",
    "\n",
    "policy = gridworld_random_policy(cliff_env)\n",
    "V = td_policy_evaluation(cliff_env, policy, num_episodes, gamma=gamma, alpha=alpha)\n",
    "\n",
    "gridworld_plot_policy(cliff_env, policy)\n",
    "gridworld_plot_value_function(cliff_env, V, vmax=-1)"
   ]
  },
  {
   "cell_type": "markdown",
   "metadata": {},
   "source": [
    "## (4.2) SARSA (5 Points)\n",
    "Your task is to implement SARSA, and test it on the Cliff environment."
   ]
  },
  {
   "cell_type": "code",
   "execution_count": 31,
   "metadata": {},
   "outputs": [],
   "source": [
    "def epsilon_greedy(Q, epsilon, n_actions, s):\n",
    "\n",
    "    if np.random.random() < epsilon: \n",
    "        action = np.random.randint(n_actions) \n",
    "    else: \n",
    "        action = np.argmax(Q[s])\n",
    "    return action\n",
    "\n",
    "def sarsa(env, num_episodes, gamma, alpha, epsilon):\n",
    "    Q = defaultdict(lambda: np.zeros(env.action_space.n))\n",
    "    n_states, n_actions = env.observation_space.n, env.action_space.n\n",
    "    for i_episode in range(1,num_episodes+1):\n",
    "        if i_episode % 100 == 0:\n",
    "            print(\"\\rEpisode {}/{}.\".format(i_episode, num_episodes))\n",
    "        s = env.reset()\n",
    "        a = epsilon_greedy(Q, epsilon, n_actions, s)\n",
    "        while True:\n",
    "            s_, reward, done, info = env.step(a)\n",
    "            a_ = epsilon_greedy(Q, epsilon, n_actions, s_)\n",
    "            Q[s][a] += alpha * (reward + (gamma * Q[s_][a_]) - Q[s][a] )\n",
    "            s, a = s_, a_\n",
    "            if done:\n",
    "                break\n",
    "    policy = defaultdict(lambda: np.ones(env.action_space.n) / env.action_space.n)\n",
    "    for s, qs in Q.items():\n",
    "        policy[s] = np.eye(env.action_space.n)[np.argmax(qs)]\n",
    "    return policy, Q"
   ]
  },
  {
   "cell_type": "markdown",
   "metadata": {},
   "source": [
    "### Setup Environment"
   ]
  },
  {
   "cell_type": "code",
   "execution_count": 32,
   "metadata": {},
   "outputs": [
    {
     "name": "stdout",
     "output_type": "stream",
     "text": [
      "\n",
      "FFFFFFFFFFFF\n",
      "FFFFFFFFFFFF\n",
      "FFFFFFFFFFFF\n",
      "\u001b[41mS\u001b[0mHHHHHHHHHHG\n"
     ]
    }
   ],
   "source": [
    "cliff_env = gym.make('Cliff-v0')\n",
    "cliff_env.render()\n",
    "\n",
    "num_episodes = 1000\n",
    "alpha = 0.9\n",
    "gamma = 0.95\n",
    "epsilon = 0.1"
   ]
  },
  {
   "cell_type": "markdown",
   "metadata": {},
   "source": [
    "### Run Algorithm"
   ]
  },
  {
   "cell_type": "code",
   "execution_count": 33,
   "metadata": {},
   "outputs": [
    {
     "name": "stdout",
     "output_type": "stream",
     "text": [
      "\n",
      "\n",
      "------------------------------\n",
      "SARSA\n",
      "num_episodes 1000\n",
      "alpha 0.9\n",
      "gamma 0.95\n",
      "Episode 100/1000.\n",
      "Episode 200/1000.\n",
      "Episode 300/1000.\n",
      "Episode 400/1000.\n",
      "Episode 500/1000.\n",
      "Episode 600/1000.\n",
      "Episode 700/1000.\n",
      "Episode 800/1000.\n",
      "Episode 900/1000.\n",
      "Episode 1000/1000.\n",
      "[['R' 'R' 'D' 'R' 'L' 'R' 'R' 'D' 'R' 'R' 'D' 'D']\n",
      " ['D' 'R' 'L' 'R' 'R' 'U' 'U' 'R' 'R' 'R' 'R' 'D']\n",
      " ['D' 'L' 'R' 'L' 'U' 'U' 'U' 'U' 'U' 'R' 'R' 'D']\n",
      " ['U' 'H' 'H' 'H' 'H' 'H' 'H' 'H' 'H' 'H' 'H' 'G']]\n"
     ]
    },
    {
     "data": {
      "image/png": "[encoded data removed]",
      "text/plain": [
       "<Figure size 432x288 with 1 Axes>"
      ]
     },
     "metadata": {
      "needs_background": "light"
     },
     "output_type": "display_data"
    },
    {
     "name": "stdout",
     "output_type": "stream",
     "text": [
      "[[-20.     -20.     -20.     -20.     -20.      -7.395   -6.7316  -6.0333  -5.2982  -4.5244  -3.7099  -2.8525]\n",
      " [-20.     -20.     -20.      -9.1928  -8.624   -8.0253  -7.395   -5.2982  -4.5244  -3.7099  -2.8525  -1.95  ]\n",
      " [-20.     -20.     -20.     -20.      -9.1928  -8.624   -8.0253  -6.0333  -5.2982  -2.8525  -1.95    -1.    ]\n",
      " [-20.       0.       0.       0.       0.       0.       0.       0.       0.       0.       0.       0.    ]]\n"
     ]
    },
    {
     "data": {
      "image/png": "[encoded data removed]",
      "text/plain": [
       "<Figure size 432x288 with 2 Axes>"
      ]
     },
     "metadata": {
      "needs_background": "light"
     },
     "output_type": "display_data"
    }
   ],
   "source": [
    "print('\\n\\n' + '-' * 30)\n",
    "print('SARSA')\n",
    "print('num_episodes', num_episodes)\n",
    "print('alpha', alpha)\n",
    "print('gamma', gamma)\n",
    "policy, Q = sarsa(cliff_env, num_episodes, gamma=gamma, alpha=alpha, epsilon=epsilon)\n",
    "\n",
    "V_init = gridworld_initial_value_function(cliff_env)\n",
    "V = dp_policy_evaluation(cliff_env, policy, V_init, gamma=gamma)\n",
    "\n",
    "gridworld_print_deterministic_policy(cliff_env, policy)\n",
    "gridworld_plot_policy(cliff_env, policy)\n",
    "\n",
    "gridworld_print_value_function(cliff_env, V)\n",
    "gridworld_plot_value_function(cliff_env, V, vmax=-1)"
   ]
  },
  {
   "cell_type": "markdown",
   "metadata": {},
   "source": [
    "## (4.3) Q-Learning (5 Points)\n",
    "Your task is to implement Q-Learning, and test it on the Cliff environment."
   ]
  },
  {
   "cell_type": "code",
   "execution_count": 34,
   "metadata": {},
   "outputs": [],
   "source": [
    "def q_learning(env, num_episodes, gamma, alpha, epsilon):\n",
    "    Q = defaultdict(lambda: np.zeros(env.action_space.n))\n",
    "    n_states, n_actions = env.observation_space.n, env.action_space.n\n",
    "    for i_episode in range(1,num_episodes+1):\n",
    "        if i_episode % 100 == 0:\n",
    "            print(\"\\rEpisode {}/{}.\".format(i_episode, num_episodes))\n",
    "        s = env.reset()\n",
    "        while True:\n",
    "            a = epsilon_greedy(Q, epsilon, n_actions, s)\n",
    "            s_, reward, done, info = env.step(a)\n",
    "            Q[s][a] += alpha * (reward + gamma * np.max(Q[s_]) - Q[s][a])\n",
    "            s,a = s_,a\n",
    "            if done:\n",
    "                break\n",
    "    policy = defaultdict(lambda: np.ones(env.action_space.n) / env.action_space.n)\n",
    "    for s, qs in Q.items():\n",
    "        policy[s] = np.eye(env.action_space.n)[np.argmax(qs)]\n",
    "    return policy, Q"
   ]
  },
  {
   "cell_type": "markdown",
   "metadata": {},
   "source": [
    "### Setup Environment"
   ]
  },
  {
   "cell_type": "code",
   "execution_count": 35,
   "metadata": {},
   "outputs": [
    {
     "name": "stdout",
     "output_type": "stream",
     "text": [
      "\n",
      "FFFFFFFFFFFF\n",
      "FFFFFFFFFFFF\n",
      "FFFFFFFFFFFF\n",
      "\u001b[41mS\u001b[0mHHHHHHHHHHG\n"
     ]
    }
   ],
   "source": [
    "cliff_env = gym.make('Cliff-v0')\n",
    "cliff_env.render()\n",
    "\n",
    "num_episodes = 1000\n",
    "alpha = 0.9\n",
    "gamma = 0.95\n",
    "epsilon = 0.1"
   ]
  },
  {
   "cell_type": "markdown",
   "metadata": {},
   "source": [
    "### Run Algorithm"
   ]
  },
  {
   "cell_type": "code",
   "execution_count": 36,
   "metadata": {},
   "outputs": [
    {
     "name": "stdout",
     "output_type": "stream",
     "text": [
      "\n",
      "\n",
      "------------------------------\n",
      "Q-Learning\n",
      "num_episodes 1000\n",
      "alpha 0.9\n",
      "gamma 0.95\n",
      "Episode 100/1000.\n",
      "Episode 200/1000.\n",
      "Episode 300/1000.\n",
      "Episode 400/1000.\n",
      "Episode 500/1000.\n",
      "Episode 600/1000.\n",
      "Episode 700/1000.\n",
      "Episode 800/1000.\n",
      "Episode 900/1000.\n",
      "Episode 1000/1000.\n",
      "[['R' 'R' 'D' 'R' 'U' 'D' 'R' 'R' 'R' 'R' 'R' 'D']\n",
      " ['D' 'D' 'D' 'D' 'D' 'D' 'D' 'D' 'D' 'D' 'D' 'D']\n",
      " ['R' 'R' 'R' 'R' 'R' 'R' 'R' 'R' 'R' 'R' 'R' 'D']\n",
      " ['U' 'H' 'H' 'H' 'H' 'H' 'H' 'H' 'H' 'H' 'H' 'G']]\n"
     ]
    },
    {
     "data": {
      "image/png": "[encoded data removed]",
      "text/plain": [
       "<Figure size 432x288 with 1 Axes>"
      ]
     },
     "metadata": {
      "needs_background": "light"
     },
     "output_type": "display_data"
    },
    {
     "name": "stdout",
     "output_type": "stream",
     "text": [
      "[[-10.2465  -9.7332  -9.1928 -20.     -20.      -7.395   -6.7316  -6.0333  -5.2982  -4.5244  -3.7099  -2.8525]\n",
      " [ -9.7332  -9.1928  -8.624   -8.0253  -7.395   -6.7316  -6.0333  -5.2982  -4.5244  -3.7099  -2.8525  -1.95  ]\n",
      " [ -9.1928  -8.624   -8.0253  -7.395   -6.7316  -6.0333  -5.2982  -4.5244  -3.7099  -2.8525  -1.95    -1.    ]\n",
      " [ -9.7332   0.       0.       0.       0.       0.       0.       0.       0.       0.       0.       0.    ]]\n"
     ]
    },
    {
     "data": {
      "image/png": "[encoded data removed]",
      "text/plain": [
       "<Figure size 432x288 with 2 Axes>"
      ]
     },
     "metadata": {
      "needs_background": "light"
     },
     "output_type": "display_data"
    }
   ],
   "source": [
    "print('\\n\\n' + '-' * 30)\n",
    "print('Q-Learning')\n",
    "print('num_episodes', num_episodes)\n",
    "print('alpha', alpha)\n",
    "print('gamma', gamma)\n",
    "policy, Q = q_learning(cliff_env, num_episodes, gamma=gamma, alpha=alpha, epsilon=epsilon)\n",
    "V_init = gridworld_initial_value_function(cliff_env)\n",
    "V = dp_policy_evaluation(cliff_env, policy, V_init, gamma=gamma)\n",
    "\n",
    "gridworld_print_deterministic_policy(cliff_env, policy)\n",
    "gridworld_plot_policy(cliff_env, policy)\n",
    "\n",
    "gridworld_print_value_function(cliff_env, V)\n",
    "gridworld_plot_value_function(cliff_env, V, vmax=-1)"
   ]
  },
  {
   "cell_type": "markdown",
   "metadata": {},
   "source": [
    "## (4.4) Expected SARSA (5 Points)"
   ]
  },
  {
   "cell_type": "code",
   "execution_count": 37,
   "metadata": {},
   "outputs": [],
   "source": [
    "def expected_sarsa(env, num_episodes, gamma, alpha, epsilon):\n",
    "    Q = defaultdict(lambda: np.zeros(env.action_space.n))\n",
    "    n_states, n_actions = env.observation_space.n, env.action_space.n\n",
    "    for i_episode in range(1,num_episodes+1):\n",
    "        if i_episode % 100 == 0:\n",
    "            print(\"\\rEpisode {}/{}.\".format(i_episode, num_episodes))\n",
    "        s = env.reset()\n",
    "        a = epsilon_greedy(Q, epsilon, n_actions, s)\n",
    "        while True:\n",
    "            s_, reward, done, info = env.step(a)\n",
    "            a_ = epsilon_greedy(Q, epsilon, n_actions, s_)\n",
    "            Q[s][a] += alpha * (reward + (gamma * np.mean(Q[s_])) - Q[s][a])\n",
    "            s,a = s_,a_\n",
    "            if done:\n",
    "                break\n",
    "    policy = defaultdict(lambda: np.ones(env.action_space.n) / env.action_space.n)\n",
    "    for s, qs in Q.items():\n",
    "        policy[s] = np.eye(env.action_space.n)[np.argmax(qs)]\n",
    "    return policy, Q"
   ]
  },
  {
   "cell_type": "markdown",
   "metadata": {},
   "source": [
    "### Setup Environment"
   ]
  },
  {
   "cell_type": "code",
   "execution_count": 38,
   "metadata": {},
   "outputs": [
    {
     "name": "stdout",
     "output_type": "stream",
     "text": [
      "\n",
      "FFFFFFFFFFFF\n",
      "FFFFFFFFFFFF\n",
      "FFFFFFFFFFFF\n",
      "\u001b[41mS\u001b[0mHHHHHHHHHHG\n"
     ]
    }
   ],
   "source": [
    "cliff_env = gym.make('Cliff-v0')\n",
    "cliff_env.render()\n",
    "\n",
    "num_episodes = 1000\n",
    "alpha = 0.9\n",
    "gamma = 0.95\n",
    "epsilon = 0.1"
   ]
  },
  {
   "cell_type": "markdown",
   "metadata": {},
   "source": [
    "### Run Algorithm"
   ]
  },
  {
   "cell_type": "code",
   "execution_count": 39,
   "metadata": {},
   "outputs": [
    {
     "name": "stdout",
     "output_type": "stream",
     "text": [
      "\n",
      "\n",
      "------------------------------\n",
      "Expected SARSA\n",
      "num_episodes 1000\n",
      "alpha 0.9\n",
      "gamma 0.95\n",
      "Episode 100/1000.\n",
      "Episode 200/1000.\n",
      "Episode 300/1000.\n",
      "Episode 400/1000.\n",
      "Episode 500/1000.\n",
      "Episode 600/1000.\n",
      "Episode 700/1000.\n",
      "Episode 800/1000.\n",
      "Episode 900/1000.\n",
      "Episode 1000/1000.\n",
      "[['R' 'R' 'R' 'R' 'R' 'R' 'R' 'R' 'R' 'R' 'R' 'D']\n",
      " ['U' 'U' 'R' 'U' 'U' 'U' 'U' 'U' 'R' 'U' 'R' 'D']\n",
      " ['U' 'U' 'U' 'U' 'U' 'R' 'U' 'L' 'R' 'U' 'R' 'D']\n",
      " ['U' 'H' 'H' 'H' 'H' 'H' 'H' 'H' 'H' 'H' 'H' 'G']]\n"
     ]
    },
    {
     "data": {
      "image/png": "[encoded data removed]",
      "text/plain": [
       "<Figure size 432x288 with 1 Axes>"
      ]
     },
     "metadata": {
      "needs_background": "light"
     },
     "output_type": "display_data"
    },
    {
     "name": "stdout",
     "output_type": "stream",
     "text": [
      "[[-10.2465  -9.7332  -9.1928  -8.624   -8.0253  -7.395   -6.7316  -6.0333  -5.2982  -4.5244  -3.7099  -2.8525]\n",
      " [-10.7342 -10.2465  -9.7332  -9.1928  -8.624   -8.0253  -7.395   -6.7316  -6.0333  -5.2982  -2.8525  -1.95  ]\n",
      " [-11.1975 -10.7342 -10.2465  -9.7332  -9.1928  -8.624   -8.0253  -8.624   -6.7316  -6.0333  -1.95    -1.    ]\n",
      " [-11.6376   0.       0.       0.       0.       0.       0.       0.       0.       0.       0.       0.    ]]\n"
     ]
    },
    {
     "data": {
      "image/png": "[encoded data removed]",
      "text/plain": [
       "<Figure size 432x288 with 2 Axes>"
      ]
     },
     "metadata": {
      "needs_background": "light"
     },
     "output_type": "display_data"
    }
   ],
   "source": [
    "print('\\n\\n' + '-' * 30)\n",
    "print('Expected SARSA')\n",
    "print('num_episodes', num_episodes)\n",
    "print('alpha', alpha)\n",
    "print('gamma', gamma)\n",
    "policy, Q = expected_sarsa(cliff_env, num_episodes, gamma=gamma, alpha=alpha, epsilon=epsilon)\n",
    "V_init = gridworld_initial_value_function(cliff_env)\n",
    "V = dp_policy_evaluation(cliff_env, policy, V_init, gamma=gamma)\n",
    "\n",
    "gridworld_print_deterministic_policy(cliff_env, policy)\n",
    "gridworld_plot_policy(cliff_env, policy)\n",
    "\n",
    "gridworld_print_value_function(cliff_env, V)\n",
    "gridworld_plot_value_function(cliff_env, V, vmax=-1)"
   ]
  },
  {
   "cell_type": "markdown",
   "metadata": {},
   "source": [
    "### Let's compare this to DP Value Iteration"
   ]
  },
  {
   "cell_type": "code",
   "execution_count": 40,
   "metadata": {},
   "outputs": [
    {
     "name": "stdout",
     "output_type": "stream",
     "text": [
      "\n",
      "\n",
      "------------------------------\n",
      "DP Value Iteration\n",
      "[['D' 'D' 'D' 'D' 'D' 'D' 'D' 'D' 'D' 'D' 'D' 'D']\n",
      " ['D' 'D' 'D' 'D' 'D' 'D' 'D' 'D' 'D' 'D' 'D' 'D']\n",
      " ['R' 'R' 'R' 'R' 'R' 'R' 'R' 'R' 'R' 'R' 'R' 'D']\n",
      " ['U' 'H' 'H' 'H' 'H' 'H' 'H' 'H' 'H' 'H' 'H' 'G']]\n"
     ]
    },
    {
     "data": {
      "image/png": "[encoded data removed]",
      "text/plain": [
       "<Figure size 432x288 with 1 Axes>"
      ]
     },
     "metadata": {
      "needs_background": "light"
     },
     "output_type": "display_data"
    },
    {
     "name": "stdout",
     "output_type": "stream",
     "text": [
      "[[-10.2465  -9.7332  -9.1928  -8.624   -8.0253  -7.395   -6.7316  -6.0333  -5.2982  -4.5244  -3.7099  -2.8525]\n",
      " [ -9.7332  -9.1928  -8.624   -8.0253  -7.395   -6.7316  -6.0333  -5.2982  -4.5244  -3.7099  -2.8525  -1.95  ]\n",
      " [ -9.1928  -8.624   -8.0253  -7.395   -6.7316  -6.0333  -5.2982  -4.5244  -3.7099  -2.8525  -1.95    -1.    ]\n",
      " [ -9.7332   0.       0.       0.       0.       0.       0.       0.       0.       0.       0.       0.    ]]\n"
     ]
    },
    {
     "data": {
      "image/png": "[encoded data removed]",
      "text/plain": [
       "<Figure size 432x288 with 2 Axes>"
      ]
     },
     "metadata": {
      "needs_background": "light"
     },
     "output_type": "display_data"
    }
   ],
   "source": [
    "print('\\n\\n' + '-' * 30)\n",
    "print('DP Value Iteration')\n",
    "V_init = gridworld_initial_value_function(cliff_env)\n",
    "policy, V = dp_value_iteration(cliff_env, V_init, gamma=gamma)\n",
    "V = dp_policy_evaluation(cliff_env, policy, V_init, gamma=gamma)\n",
    "\n",
    "gridworld_print_deterministic_policy(cliff_env, policy)\n",
    "gridworld_plot_policy(cliff_env, policy)\n",
    "\n",
    "gridworld_print_value_function(cliff_env, V)\n",
    "gridworld_plot_value_function(cliff_env, V, vmax=-1)"
   ]
  },
  {
   "cell_type": "markdown",
   "metadata": {},
   "source": [
    "## (4.5) Double Q-Learning (5 Points)\n",
    "\n",
    "Let's try to recreate an approximation to the figure 2 from [this paper](https://proceedings.neurips.cc/paper/2010/file/091d584fced301b442654dd8c23b3fc9-Paper.pdf), where Double-Q learning is put to the test.\n",
    "\n",
    "We will only try to approximately recreate this, as unfortunately the OpenAI-gym environments and the PRNG methods of numpy are way too slow to get the same figure."
   ]
  },
  {
   "cell_type": "code",
   "execution_count": 41,
   "metadata": {},
   "outputs": [],
   "source": [
    "\n",
    "def double_q_paper(env, num_episodes, gamma=0.95, alpha=None, double_flag=True):\n",
    "    if double_flag:\n",
    "        # if double-q learning is switched ON, we use two\n",
    "        # tables to approximate the q-function\n",
    "        QX = defaultdict(lambda: np.zeros(env.action_space.n))\n",
    "        QY = defaultdict(lambda: np.zeros(env.action_space.n))\n",
    "    else:\n",
    "        # if it is switched OFF, both these tables are the same\n",
    "        QX = QY = defaultdict(lambda: np.zeros(env.action_space.n))\n",
    "\n",
    "    # HINTS:\n",
    "    # 1) this is to count the number of visits per state (per episode!)\n",
    "    # increment with N[s] += 1 where appropriate\n",
    "    N = defaultdict(lambda: 0)\n",
    "    \n",
    "    # 2) this is to count the number of visits per state-action pair (per episode!)\n",
    "    # increment with NT[s, a] += 1 where appropriate\n",
    "    NT = defaultdict(lambda: 0)\n",
    "\n",
    "    # 3) to derive an epsilon greedy policy, use:\n",
    "    #epsilon = 1. / np.sqrt(N[s])\n",
    "    \n",
    "    # 4) the epsilon greedy policy for behavior should be derived from\n",
    "    #qs = (QX[s] + QY[s]) / 2.\n",
    "    \n",
    "    # 5) to get the learning rate for an update use\n",
    "    #alpha(NT[s, a])\n",
    "    \n",
    "    \n",
    "    for i_episode in range(1,num_episodes+1):\n",
    "        s = env.reset()\n",
    "        N[s]+=1\n",
    "        while True:\n",
    "            rand = np.random.random()\n",
    "            Q = QX[s]+QY[s]\n",
    "            if N[s]==0:\n",
    "                N[s]=1\n",
    "            epsilon = 1. / np.sqrt(N[s])\n",
    "            if np.random.random() < epsilon:\n",
    "                a = env.action_space.sample()\n",
    "            else:\n",
    "                q_table = QX[s]+QY[s]\n",
    "                a = np.argmax(q_table)\n",
    "            NT[s, a] += 1\n",
    "            alph = alpha(NT[s, a])\n",
    "            s_, reward, done, info = env.step(a)\n",
    "            if rand <= 0.5:\n",
    "                a_ = np.argmax(QX[s_])\n",
    "                QX[s][a] = QX[s][a] + alph*(reward + gamma*QY[s_][a_] - QX[s][a])\n",
    "            elif rand > 0.5:\n",
    "                a_ = np.argmax(QY[s_])\n",
    "                QY[s][a] = QY[s][a] + alph*(reward + gamma*QX[s_][a_] - QY[s][a])\n",
    "            s=s_\n",
    "            if done:\n",
    "                break\n",
    "            \n",
    "    ######################################################################################\n",
    "    # don't change the following\n",
    "\n",
    "    # sum up Q values of both estimates QX, QY\n",
    "    Q = dict()\n",
    "    for s in range(env.observation_space.n):\n",
    "        Q[s] = (QX[s] + QY[s]) / 2.\n",
    "    \n",
    "    # after this call, there might be states missing from policy, as exploration\n",
    "    # could have missed some states. so if we have not encountered a state yet, behave randomly\n",
    "    policy = defaultdict(lambda: np.ones(env.action_space.n) / env.action_space.n)\n",
    "    for s, qs in Q.items():\n",
    "        policy[s] = np.eye(env.action_space.n)[np.argmax(qs)]\n",
    "    return policy, Q\n"
   ]
  },
  {
   "cell_type": "markdown",
   "metadata": {},
   "source": [
    "### Setup Environment"
   ]
  },
  {
   "cell_type": "code",
   "execution_count": 42,
   "metadata": {},
   "outputs": [
    {
     "name": "stdout",
     "output_type": "stream",
     "text": [
      "\n",
      "FFG\n",
      "FFF\n",
      "\u001b[41mS\u001b[0mFF\n"
     ]
    }
   ],
   "source": [
    "import gym_gridworlds\n",
    "\n",
    "bd_env = gym.make('QBiasTest-v0')\n",
    "bd_env.reset()\n",
    "bd_env.render()"
   ]
  },
  {
   "cell_type": "markdown",
   "metadata": {},
   "source": [
    "### Let's try an example first:"
   ]
  },
  {
   "cell_type": "code",
   "execution_count": 43,
   "metadata": {
    "scrolled": true
   },
   "outputs": [
    {
     "name": "stdout",
     "output_type": "stream",
     "text": [
      "Average per-step rewards (Q-Learning):\n",
      "-0.7759607859290687\n",
      "Policy obtained via Q-Learning\n"
     ]
    },
    {
     "data": {
      "image/png": "[encoded data removed]",
      "text/plain": [
       "<Figure size 432x288 with 1 Axes>"
      ]
     },
     "metadata": {
      "needs_background": "light"
     },
     "output_type": "display_data"
    },
    {
     "name": "stdout",
     "output_type": "stream",
     "text": [
      "Average per-step rewards (Double Q-Learning):\n",
      "-0.8225312826870181\n",
      "Policy obtained via Double Q-Learning\n"
     ]
    },
    {
     "data": {
      "image/png": "[encoded data removed]",
      "text/plain": [
       "<Figure size 432x288 with 1 Axes>"
      ]
     },
     "metadata": {
      "needs_background": "light"
     },
     "output_type": "display_data"
    }
   ],
   "source": [
    "gamma = 0.95  # from the paper\n",
    "num_episodes = 1000  # a low number, to see results quickly\n",
    "\n",
    "# the linear learnrate schedule\n",
    "linear_alpha = lambda nsa: 1. / nsa\n",
    "\n",
    "# the polynomial learnrate schedule\n",
    "poly_alpha = lambda nsa: 1. / (nsa ** 0.8)\n",
    "\n",
    "# to recreate the figure, we have to log all per-step rewards\n",
    "# this particular environment has a method to reset the log \n",
    "bd_env.reset_rewards()\n",
    "\n",
    "# let's run the algorithm with double-q switched OFF\n",
    "ql_policy, ql_Q = double_q_paper(bd_env, num_episodes, gamma=gamma, alpha=poly_alpha, double_flag=False)\n",
    "\n",
    "# and to retrieve the log of rewards\n",
    "print('Average per-step rewards (Q-Learning):')\n",
    "print(np.mean(bd_env.get_rewards()))\n",
    "\n",
    "print('Policy obtained via Q-Learning')\n",
    "gridworld_plot_policy(bd_env, ql_policy)\n",
    "\n",
    "bd_env.reset_rewards()\n",
    "# and now let's run the algorithm with double-q switched ON \n",
    "dq_policy, dq_Q = double_q_paper(bd_env, num_episodes, gamma=gamma, alpha=poly_alpha, double_flag=True)\n",
    "\n",
    "print('Average per-step rewards (Double Q-Learning):')\n",
    "print(np.mean(bd_env.get_rewards()))\n",
    "\n",
    "print('Policy obtained via Double Q-Learning')\n",
    "gridworld_plot_policy(bd_env, dq_policy)"
   ]
  },
  {
   "cell_type": "markdown",
   "metadata": {},
   "source": [
    "### Let's compare that to DP Value Iteration"
   ]
  },
  {
   "cell_type": "code",
   "execution_count": 44,
   "metadata": {},
   "outputs": [
    {
     "name": "stdout",
     "output_type": "stream",
     "text": [
      "Policy obtained via Value Iteration:\n"
     ]
    },
    {
     "data": {
      "image/png": "[encoded data removed]",
      "text/plain": [
       "<Figure size 432x288 with 1 Axes>"
      ]
     },
     "metadata": {
      "needs_background": "light"
     },
     "output_type": "display_data"
    }
   ],
   "source": [
    "print('Policy obtained via Value Iteration:')\n",
    "V_init = gridworld_initial_value_function(bd_env)\n",
    "dp_policy, V = dp_value_iteration(bd_env, V_init, gamma=gamma)\n",
    "\n",
    "gridworld_plot_policy(bd_env, dp_policy)"
   ]
  },
  {
   "cell_type": "markdown",
   "metadata": {},
   "source": [
    "### And now for an approximation of the figure in the paper:\n",
    "First, we'll define the function that runs an algorithm configuration."
   ]
  },
  {
   "cell_type": "code",
   "execution_count": 45,
   "metadata": {},
   "outputs": [],
   "source": [
    "# this conducts the experiment for an algorithm configuration, and returns the results\n",
    "# we start at num_episodes = 'start',\n",
    "# advance in steps of 'step',\n",
    "# and end at 'end'\n",
    "# for each value of 'num_episodes', we'll compute 'n_samples' samples\n",
    "def biasdemo_run_experiment(algorithm, start, end, step, n_samples):\n",
    "    all_max_q_for_start = []\n",
    "    all_avg_rewards = []\n",
    "    bd_env = gym.make('QBiasTest-v0')\n",
    "\n",
    "    for num_episodes in range(start, end, step):\n",
    "        print(f'gathering {n_samples} samples for {num_episodes} num_episodes')\n",
    "        max_q_for_start = []\n",
    "        avg_rewards = []\n",
    "        for run in range(n_samples):\n",
    "            bd_env.reset_rewards()\n",
    "            policy, Q = algorithm(bd_env, num_episodes, gamma=0.95)\n",
    "            \n",
    "            max_q_for_start.append(np.max(Q[bd_env.get_start()]))\n",
    "            \n",
    "            avg_reward = np.mean(bd_env.get_rewards())\n",
    "            avg_rewards.append(avg_reward)\n",
    "\n",
    "        avg_rewards_percentiles = np.percentile(avg_rewards, [10, 50, 90]).tolist()\n",
    "        max_q_for_start_percentiles = np.percentile(max_q_for_start, [10, 50, 90]).tolist()\n",
    "        \n",
    "        all_avg_rewards.append([num_episodes] + avg_rewards_percentiles)\n",
    "        all_max_q_for_start.append([num_episodes] + max_q_for_start_percentiles)\n",
    "\n",
    "    all_max_q_for_start = np.array(all_max_q_for_start)\n",
    "    all_avg_rewards = np.array(all_avg_rewards)\n",
    "    return all_max_q_for_start, all_avg_rewards"
   ]
  },
  {
   "cell_type": "markdown",
   "metadata": {},
   "source": [
    "### Running the computational experiment\n",
    "We will now define the plotting code, the algorithm configurations, and run the experiments."
   ]
  },
  {
   "cell_type": "code",
   "execution_count": 46,
   "metadata": {},
   "outputs": [
    {
     "name": "stdout",
     "output_type": "stream",
     "text": [
      "running configuration with schedule: linear and Q-Learning\n",
      "gathering 3 samples for 10 num_episodes\n",
      "gathering 3 samples for 20 num_episodes\n",
      "gathering 3 samples for 30 num_episodes\n",
      "gathering 3 samples for 40 num_episodes\n",
      "gathering 3 samples for 50 num_episodes\n",
      "gathering 3 samples for 60 num_episodes\n",
      "gathering 3 samples for 70 num_episodes\n",
      "gathering 3 samples for 80 num_episodes\n",
      "gathering 3 samples for 90 num_episodes\n",
      "running configuration with schedule: linear and Double Q-Learning\n",
      "gathering 3 samples for 10 num_episodes\n",
      "gathering 3 samples for 20 num_episodes\n",
      "gathering 3 samples for 30 num_episodes\n",
      "gathering 3 samples for 40 num_episodes\n",
      "gathering 3 samples for 50 num_episodes\n",
      "gathering 3 samples for 60 num_episodes\n",
      "gathering 3 samples for 70 num_episodes\n",
      "gathering 3 samples for 80 num_episodes\n",
      "gathering 3 samples for 90 num_episodes\n",
      "running configuration with schedule: poly and Q-Learning\n",
      "gathering 3 samples for 10 num_episodes\n",
      "gathering 3 samples for 20 num_episodes\n",
      "gathering 3 samples for 30 num_episodes\n",
      "gathering 3 samples for 40 num_episodes\n",
      "gathering 3 samples for 50 num_episodes\n",
      "gathering 3 samples for 60 num_episodes\n",
      "gathering 3 samples for 70 num_episodes\n",
      "gathering 3 samples for 80 num_episodes\n",
      "gathering 3 samples for 90 num_episodes\n",
      "running configuration with schedule: poly and Double Q-Learning\n",
      "gathering 3 samples for 10 num_episodes\n",
      "gathering 3 samples for 20 num_episodes\n",
      "gathering 3 samples for 30 num_episodes\n",
      "gathering 3 samples for 40 num_episodes\n",
      "gathering 3 samples for 50 num_episodes\n",
      "gathering 3 samples for 60 num_episodes\n",
      "gathering 3 samples for 70 num_episodes\n",
      "gathering 3 samples for 80 num_episodes\n",
      "gathering 3 samples for 90 num_episodes\n"
     ]
    },
    {
     "data": {
      "image/png": "[encoded data removed]",
      "text/plain": [
       "<Figure size 1152x720 with 4 Axes>"
      ]
     },
     "metadata": {
      "needs_background": "light"
     },
     "output_type": "display_data"
    }
   ],
   "source": [
    "import matplotlib.pyplot as plt\n",
    "from functools import partial\n",
    "\n",
    "fig, axes = plt.subplots(nrows=2, ncols=2, figsize=(16, 10))\n",
    "\n",
    "axes[0, 0].set_ylabel('r per step')\n",
    "axes[1, 0].set_ylabel('max Q[start]')\n",
    "\n",
    "NEP = 0\n",
    "P10 = 1\n",
    "P50 = 2\n",
    "P90 = 3\n",
    "\n",
    "# try all four combinations, as in the paper\n",
    "for icol, lr_schedule_name, lr_schedule in [(0, 'linear', linear_alpha), (1, 'poly', poly_alpha)]:\n",
    "    axes[0, icol].set_title(f'schedule:{lr_schedule_name}')\n",
    "    \n",
    "    for algo_name, double_flag in [('Q-Learning', False), ('Double Q-Learning', True)]:\n",
    "        # we use partial functions to define algorithm configurations\n",
    "        # think of a partial function as a function that has parameters filled in already\n",
    "        # assume: f(a, b) is defined\n",
    "        # fill in parameter 'a' of 'f': g = partial(f, a=0)\n",
    "        # we can now use 'g(b)' as if we'd have written 'f(0, b)'\n",
    "        \n",
    "        # we use it here to define the learnrate schedule\n",
    "        # and to set the flag that switches on double-q learning\n",
    "        print(f'running configuration with schedule: {lr_schedule_name} and {algo_name}')\n",
    "        algorithm_configuration = partial(double_q_paper, alpha=lr_schedule, double_flag=double_flag)\n",
    "        max_q, avg_rewards = biasdemo_run_experiment(\n",
    "            algorithm_configuration,\n",
    "            start=10,\n",
    "            end=100,\n",
    "            step=10,\n",
    "            n_samples=3\n",
    "        )\n",
    "\n",
    "        axes[0, icol].fill_between(\n",
    "            avg_rewards[:, NEP],\n",
    "            avg_rewards[:, P10],\n",
    "            avg_rewards[:, P90],\n",
    "            alpha=0.3,\n",
    "            label=algo_name\n",
    "        )\n",
    "        axes[0, icol].plot(\n",
    "            avg_rewards[:, NEP],\n",
    "            avg_rewards[:, P50],\n",
    "            label=algo_name\n",
    "        )\n",
    "        \n",
    "        axes[1, icol].fill_between(\n",
    "            max_q[:, NEP],\n",
    "            max_q[:, P10],\n",
    "            max_q[:, P90],\n",
    "            alpha=0.3,\n",
    "            label=algo_name\n",
    "        )\n",
    "        axes[1, icol].plot(\n",
    "            max_q[:, NEP],\n",
    "            max_q[:, P50],\n",
    "            label=algo_name\n",
    "        )\n",
    "\n",
    "for ax in axes.flatten():\n",
    "    ax.legend()\n",
    "plt.show()      "
   ]
  },
  {
   "cell_type": "markdown",
   "metadata": {},
   "source": [
    "### What it should look like\n",
    "If you use `start=1000, end=10000, step=1000, n_samples=50` to run the above experiment, this will take a loooong time, but your result should look approximately like this:\n",
    "![The Goal](reproduction_in_spirit.png)"
   ]
  },
  {
   "cell_type": "code",
   "execution_count": null,
   "metadata": {},
   "outputs": [],
   "source": []
  }
 ],
 "metadata": {
  "kernelspec": {
   "display_name": "Python 3",
   "language": "python",
   "name": "python3"
  },
  "language_info": {
   "codemirror_mode": {
    "name": "ipython",
    "version": 3
   },
   "file_extension": ".py",
   "mimetype": "text/x-python",
   "name": "python",
   "nbconvert_exporter": "python",
   "pygments_lexer": "ipython3",
   "version": "3.8.3"
  }
 },
 "nbformat": 4,
 "nbformat_minor": 4
}
