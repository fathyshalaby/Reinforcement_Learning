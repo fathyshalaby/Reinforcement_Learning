{
  "nbformat": 4,
  "nbformat_minor": 0,
  "metadata": {
    "colab": {
      "name": "Assignment_3_11701175 Fathy Shalaby_2020.ipynb",
      "provenance": [],
      "collapsed_sections": []
    },
    "kernelspec": {
      "display_name": "Python 3",
      "language": "python",
      "name": "python3"
    },
    "language_info": {
      "codemirror_mode": {
        "name": "ipython",
        "version": 3
      },
      "file_extension": ".py",
      "mimetype": "text/x-python",
      "name": "python",
      "nbconvert_exporter": "python",
      "pygments_lexer": "ipython3",
      "version": "3.8.3"
    }
  },
  "cells": [
    {
      "cell_type": "markdown",
      "metadata": {
        "id": "4g88eowq6lR0"
      },
      "source": [
        "# Assignment 3 - Policy Gradient Methods\n",
        "## Special Topics: Reinforcement Learning KV\n",
        "### WS 2020\n",
        "\n",
        "---\n",
        "<div class=\"alert alert-warning\">\n",
        "\n",
        "**Due:** 19.01.2021, 13:45\n",
        "</div>\n",
        "\n",
        "---\n",
        "\n",
        "<div class=\"alert alert-info\">\n",
        "    \n",
        "In this assignment we will solve the Cartpole balancing problem using the **Policy Gradient Method REINFORCE**.\n",
        "<br>\n",
        "\n",
        "In particular we will use a neural network to approximate our policy $\\pi(a|s)$. To that end we will rely on an auto-differentiation framwork which will provide us with the gradients of our policy with respect to its parameters.\n",
        "We will leave it up to you which framework you choose (PyTorch, JAX, Tensorflow, ...), but we won't be able to provide \"support\" for all of them, of course.\n",
        "\n",
        "- Our recommendation, which we also used in our tutorials for this class, is **PyTorch**.\n",
        "- Also **do not use high-level packages** such as \"Keras\" for solving the assignment. We want to see a clean and \"exposed\" implementation of REINFORCE.\n",
        "<br>\n",
        "\n",
        "To accomplish this exercise read the notebook carefully from beginning to end end fill out to coding parts marked with **TODO**.<br>\n",
        "Please also **provided comments in your code** to make it is easier for us to understand all the different submissions.\n",
        "</div>\n",
        "\n",
        "---"
      ]
    },
    {
      "cell_type": "markdown",
      "metadata": {
        "id": "r0Xx9Lxd6lSE"
      },
      "source": [
        "## Python Imports\n",
        "\n",
        "- Please make sure that you have installed OpenAI gym (https://gym.openai.com/docs/). This should be anyways ready from your previous assignment."
      ]
    },
    {
      "cell_type": "code",
      "metadata": {
        "id": "0JDlogLF6lSG"
      },
      "source": [
        "import gym\n",
        "import numpy as np\n",
        "import matplotlib.pyplot as plt\n",
        "import matplotlib.patches as mpatches"
      ],
      "execution_count": 1,
      "outputs": []
    },
    {
      "cell_type": "code",
      "metadata": {
        "id": "FE59d16x6lSH"
      },
      "source": [
        "# pytorch imports\n",
        "# (if you don't want to use PyTorch just replace this with whatever you need)\n",
        "import torch\n",
        "import torch.optim as optim\n",
        "import torch.nn as nn\n",
        "import torch.nn.functional as F\n",
        "import torch.distributions as distributions\n",
        "from torch.nn.init import _calculate_fan_in_and_fan_out, calculate_gain\n",
        "\n"
      ],
      "execution_count": 2,
      "outputs": []
    },
    {
      "cell_type": "markdown",
      "metadata": {
        "id": "zg9gHaBT6lSJ"
      },
      "source": [
        "## 1. Implement REINFORCE\n",
        "In this part of the assignment we will first define the neural network approximating our policy.<br>\n",
        "In the second part we implement the **REINFORCE** algorithm shown in our class.\n",
        "\n",
        "## 1.1 Define Policy Network (2 Points)\n",
        "Define the policy network. The output of this network is the action selection probability for each of the actions (this will require a *softmax* nonlinearity).\n",
        "You can look in the **07_function_approximation.ipynb** to re-check how you can define a Neural Network in PyTorch.\n",
        "\n",
        "<div class=\"alert alert-info\">\n",
        "\n",
        "**Hint:** We solved the task using a neural network with two hidden layers (each 32 units) and SELU nonlinearities. But the architecture design is up to you.\n",
        "We actually encourage you to play around with it and investigate its impact on the overall performance of the system.\n",
        "</div>\n",
        "\n",
        "<div class=\"alert alert-info\">\n",
        "\n",
        "**Hint:** Make sure to initialize the weights of your neural network properly.\n",
        "Possible options for initializing your (linear, dense) layers can be found [here](https://pytorch.org/docs/stable/nn.html#torch-nn-init).\n",
        "\n",
        "We recommend to initialize the weights with a distribution that is appropriate for the nonlinearities used. Have a look at **07_technical_details.ipynb** for examples. However, we again encourage you to play around with this.\n",
        "\n",
        "</div>"
      ]
    },
    {
      "cell_type": "code",
      "metadata": {
        "id": "9lju4THB6lSL"
      },
      "source": [
        "# TODO\n",
        "class Policy_network(nn.Module):# the one that I found used by some tutorials in RL for this task\n",
        "    def __init__(self, env, hidden):\n",
        "        super(Policy_network, self).__init__()\n",
        "\n",
        "        self.n_inputs = env.observation_space.shape[0]\n",
        "        self.n_outputs = env.action_space.n\n",
        "        \n",
        "        # Define network\n",
        "        self.network = nn.Sequential(\n",
        "            nn.Linear(self.n_inputs, 64), \n",
        "            nn.SELU(), \n",
        "            nn.Linear(64, hidden),\n",
        "            nn.SELU(), \n",
        "            nn.Linear(hidden, hidden),\n",
        "            nn.SELU(), \n",
        "            nn.Linear(hidden,self.n_outputs),\n",
        "            nn.Softmax(dim=-1))\n",
        "    \n",
        "    def forward(self, state):\n",
        "        action_probs = self.network(torch.FloatTensor(np.array(state)))\n",
        "        return action_probs\n",
        "    \n",
        "class Value_estimator(nn.Module): # Another version\n",
        "    def __init__(self, env):\n",
        "        super(Value_estimator, self).__init__()\n",
        "        self.n_inputs = env.observation_space.shape[0]\n",
        "        self.n_outputs = env.action_space.n\n",
        "        # Define network\n",
        "        self.network = nn.Sequential(\n",
        "            nn.Linear(self.n_inputs, 64), \n",
        "            nn.SELU(), \n",
        "            nn.Linear(64, 32),\n",
        "            nn.SELU(), \n",
        "            nn.Linear(32,1))\n",
        "    def forward(self, state):\n",
        "        action_probs = self.network(torch.FloatTensor(np.array(state)))\n",
        "        return action_probs\n",
        "\n",
        "def weights_init(m):\n",
        "    if isinstance(m, nn.Linear):\n",
        "        nn.init.xavier_uniform_(m.weight.data)\n",
        "        nn.init.constant_(m.bias.data, 0)\n"
      ],
      "execution_count": 3,
      "outputs": []
    },
    {
      "cell_type": "markdown",
      "metadata": {
        "id": "ejIzithL6lSL"
      },
      "source": [
        "## 1.2 Reinforce (8 Points)\n",
        "Implement an agent which learns by the REINFORCE algorithm ... <br>\n",
        "\n",
        "<div class=\"alert alert-info\"> \n",
        "\n",
        "**Hints:**\n",
        "- We used the Adam update rule with a learning rate of $10^{-4}$ for Stochastic Gradient Ascent.<br>\n",
        "- We used a discounting factor $\\gamma = 0.9$ for computing the returns $G_t$\n",
        "</div>"
      ]
    },
    {
      "cell_type": "code",
      "metadata": {
        "id": "V0HgNMv4JUyT"
      },
      "source": [
        "\n",
        "class Reinforce(object): # inspired by https://github.com/bentrevett/pytorch-rl/blob/master/1%20-%20Vanilla%20Policy%20Gradient%20(REINFORCE)%20%5BCartPole%5D.ipynb\n",
        "    \"\"\"\n",
        "    REINFORCE Agent\n",
        "    \"\"\"\n",
        "    def __init__(self, env, alpha, use_baseline=False):\n",
        "        \"\"\"\n",
        "        Constructor\n",
        "        \n",
        "        @env: OpenAI gym environment the agent should interact with\n",
        "        @alpha (float): learning rate of policy optimizer\n",
        "        @use_baseline (bool): whether to use a baseline or not\n",
        "        \"\"\"\n",
        "        # TODO\n",
        "        self.alpha = alpha\n",
        "        self.env = env\n",
        "        self.baseline = use_baseline\n",
        "        self.reset()\n",
        "    def reset(self):\n",
        "        \"\"\"\n",
        "        Reset agent:\n",
        "            - instantiate new policy network\n",
        "            - initialize the parameters of the network\n",
        "            - instantiate new policy optimizer (e.g. optim.Adam)\n",
        "        \"\"\"\n",
        "        # TODO\n",
        "        self.action_space = np.arange(env.action_space.n)\n",
        "        self.model = Policy_network(self.env,32)\n",
        "        self.optimizer = optim.Adam(self.model.parameters(),lr=self.alpha)\n",
        "        self.model.apply(weights_init)\n",
        "        if self.baseline:\n",
        "            self.value_es = Value_estimator(self.env)\n",
        "            self.optimizer_val = optim.Adam(self.value_es.parameters(),lr=self.alpha)\n",
        "            self.value_es.apply(weights_init)\n",
        "            \n",
        "\n",
        "    def choose_action(self, state):\n",
        "        \"\"\"\n",
        "        Select action given a certain state:\n",
        "            - compute output of policy network (softmax)\n",
        "            - sample from network output\n",
        "            - compute action index\n",
        "        \n",
        "        Returns:\n",
        "            @action (integer): index of selected action\n",
        "        \"\"\"\n",
        "        state = torch.from_numpy(state).float().unsqueeze(0)\n",
        "        action_probs = self.model(state)\n",
        "        self.dist = distributions.Categorical(action_probs)\n",
        "        action = self.dist.sample()\n",
        "        action_log_prob = self.dist.log_prob(action)\n",
        "        action = action.item()\n",
        "        return action,action_log_prob\n",
        "    def update(self, states, actions, log_probs, rewards, gamma):\n",
        "        \"\"\"\n",
        "        Update parameters of agent\n",
        "        (in particular the parameters of the policy network)\n",
        "        \n",
        "        Inputs (have to match the function \"generate_episode\"):\n",
        "            @states (float array): trajectory of observed states\n",
        "            @actions (int array): vector of selected actions\n",
        "            @rewards (float array): trajectory of received rewards\n",
        "            @gamma (float): discounting rate\n",
        "        \"\"\"\n",
        "        # TODO\n",
        "\n",
        "        states_tensor = torch.tensor(states, device = device, dtype=torch.float)\n",
        "        reward_tensor = torch.tensor(rewards, device = device, dtype=torch.float)\n",
        "        action_tensor = torch.tensor(actions, device = device, dtype=torch.long)\n",
        "        if self.baseline:\n",
        "            for idx in range(len(states)-1):\n",
        "                G = reward_tensor[idx:].sum()\n",
        "                value_prediction = self.value_es(states_tensor[idx])\n",
        "                delta = G - value_prediction\n",
        "                \n",
        "                value_loss = -delta * value_prediction\n",
        "                policy_loss = -delta * torch.log(self.model(states_tensor[idx])[action_tensor[idx]])\n",
        "                \n",
        "                self.optimizer_val.zero_grad()\n",
        "                self.optimizer.zero_grad()\n",
        "                value_loss.backward(retain_graph=True)\n",
        "                policy_loss.backward(retain_graph=True)\n",
        "                self.optimizer.step()\n",
        "                self.optimizer_val.step()\n",
        "        else:\n",
        "            for idx in range(len(states)-1):\n",
        "                G = 0\n",
        "                for k in range(idx+1, len(states)):\n",
        "                    G = G + gamma**(k-idx-1) * reward_tensor[k]\n",
        "                    \n",
        "                policy_loss = -gamma**idx * G * torch.log(self.model(states_tensor[idx])[action_tensor[idx]])\n",
        "                \n",
        "                self.optimizer.zero_grad()\n",
        "                policy_loss.backward(retain_graph=True)\n",
        "                self.optimizer.step()\n"
      ],
      "execution_count": 4,
      "outputs": []
    },
    {
      "cell_type": "code",
      "metadata": {
        "id": "-gftasJspu-e"
      },
      "source": [
        "\n",
        "class Reinforce(object): # inspired by https://github.com/bentrevett/pytorch-rl/blob/master/1%20-%20Vanilla%20Policy%20Gradient%20(REINFORCE)%20%5BCartPole%5D.ipynb\n",
        "    \"\"\"\n",
        "    REINFORCE Agent\n",
        "    \"\"\"\n",
        "    def __init__(self, env, alpha, use_baseline=False):\n",
        "        \"\"\"\n",
        "        Constructor\n",
        "        \n",
        "        @env: OpenAI gym environment the agent should interact with\n",
        "        @alpha (float): learning rate of policy optimizer\n",
        "        @use_baseline (bool): whether to use a baseline or not\n",
        "        \"\"\"\n",
        "        # TODO\n",
        "        self.alpha = alpha\n",
        "        self.env = env\n",
        "        self.baseline = use_baseline\n",
        "        self.reset()\n",
        "    def reset(self):\n",
        "        \"\"\"\n",
        "        Reset agent:\n",
        "            - instantiate new policy network\n",
        "            - initialize the parameters of the network\n",
        "            - instantiate new policy optimizer (e.g. optim.Adam)\n",
        "        \"\"\"\n",
        "        # TODO\n",
        "        self.action_space = np.arange(env.action_space.n)\n",
        "        self.model = Policy_network(self.env,32)\n",
        "        self.model.apply(weights_init)\n",
        "        self.optimizer = optim.Adam(self.model.network.parameters(),lr=self.alpha)\n",
        "        if self.baseline:\n",
        "            self.value_es = Value_estimator(self.env)\n",
        "            self.optimizer_val = optim.Adam(self.value_es.network.parameters(),lr=1e-5)\n",
        "            \n",
        "\n",
        "    def choose_action(self, state):\n",
        "        \"\"\"\n",
        "        Select action given a certain state:\n",
        "            - compute output of policy network (softmax)\n",
        "            - sample from network output\n",
        "            - compute action index\n",
        "        \n",
        "        Returns:\n",
        "            @action (integer): index of selected action\n",
        "        \"\"\"\n",
        "        state = torch.from_numpy(state).float().unsqueeze(0)\n",
        "        action_probs = self.model(state)\n",
        "        self.dist = distributions.Categorical(action_probs)\n",
        "        action = self.dist.sample()\n",
        "        action_log_prob = self.dist.log_prob(action)\n",
        "        action = action.item()\n",
        "        return action,action_log_prob\n",
        "    def update(self, states, actions, log_probs, rewards, gamma):\n",
        "        \"\"\"\n",
        "        Update parameters of agent\n",
        "        (in particular the parameters of the policy network)\n",
        "        \n",
        "        Inputs (have to match the function \"generate_episode\"):\n",
        "            @states (float array): trajectory of observed states\n",
        "            @actions (int array): vector of selected actions\n",
        "            @rewards (float array): trajectory of received rewards\n",
        "            @gamma (float): discounting rate\n",
        "        \"\"\"\n",
        "        # TODO\n",
        "\n",
        "        states_tensor = torch.tensor(states, dtype=torch.float)\n",
        "        reward_tensor = torch.tensor(rewards, dtype=torch.float)\n",
        "        action_tensor = torch.tensor(actions, dtype=torch.long)\n",
        "        \n",
        "        if self.baseline:\n",
        "            for idx in range(len(states)-1):\n",
        "                G = reward_tensor[idx:].sum()\n",
        "                value_prediction = self.value_es(states_tensor[idx])\n",
        "                delta = G - value_prediction\n",
        "                \n",
        "                value_loss = -delta * value_prediction\n",
        "                policy_loss = -delta * torch.log(self.model(states_tensor[idx])[action_tensor[idx]])\n",
        "                \n",
        "                self.optimizer_val.zero_grad()\n",
        "                self.optimizer.zero_grad()\n",
        "                value_loss.backward(retain_graph=True)\n",
        "                policy_loss.backward(retain_graph=True)\n",
        "                self.optimizer.step()\n",
        "                self.optimizer_val.step()\n",
        "        else:\n",
        "            for idx in range(len(states)-1):\n",
        "                G = 0\n",
        "                for k in range(idx+1, len(states)):\n",
        "                    G = G + gamma**(k-idx-1) * reward_tensor[k]\n",
        "                    \n",
        "                policy_loss = -gamma**idx * G * torch.log(self.model(states_tensor[idx])[action_tensor[idx]])\n",
        "                \n",
        "                self.optimizer.zero_grad()\n",
        "                policy_loss.backward(retain_graph=True)\n",
        "                self.optimizer.step()"
      ],
      "execution_count": 5,
      "outputs": []
    },
    {
      "cell_type": "markdown",
      "metadata": {
        "id": "mjNFh4_E6lSN"
      },
      "source": [
        "# 2. Generate one Episode (4 Points)\n",
        "This function should generate a full episode following the agent's paremetrized policy $\\pi_{\\theta}(a | s)$."
      ]
    },
    {
      "cell_type": "code",
      "metadata": {
        "id": "QTBEt1Pe6lSN"
      },
      "source": [
        "def generate_episode(env, agent, max_steps, render=False):\n",
        "    \"\"\"\n",
        "    Generates one episode (S0, A0, R1, ..., RT) on a given\n",
        "    environment following the agent's policy.\n",
        "    \n",
        "    Inputs:\n",
        "        @env (OpenAI Gym environment): the environment to interact with\n",
        "        @agent (as defined above): the agent (policy) to follow\n",
        "        @max_steps (integer): maximum number of steps in episode\n",
        "        @render (boolean): render environment after each action\n",
        "    \n",
        "    Returns:\n",
        "        @states (float array): trajectory of observed states\n",
        "        @actions (int array): vector of selected actions\n",
        "        @rewards (float array): trajectory of received rewards\n",
        "        @total_reward (numerical): total accumulated reward of episode (this is **not** the return!)\n",
        "    \"\"\"\n",
        "    # TODO\n",
        "    step = 0\n",
        "    state = env.reset()\n",
        "    rewards = []\n",
        "    actions = []\n",
        "    states = []\n",
        "    log_action_probs = []\n",
        "    done = False\n",
        "    total_reward = 0\n",
        "    while done==False and step<max_steps:\n",
        "        action,log_action_prob = agent.choose_action(state)\n",
        "        state_1,reward,done,_ = env.step(action)\n",
        "        step+=1\n",
        "        states.append(state)\n",
        "        rewards.append(reward)\n",
        "        actions.append(action)\n",
        "        log_action_probs.append(log_action_prob)\n",
        "        state=state_1\n",
        "        if done:\n",
        "            total_reward = sum(rewards)\n",
        "            break\n",
        "        if step==max_steps:\n",
        "          break\n",
        "        \n",
        "    return states, actions, rewards, log_action_probs, total_reward"
      ],
      "execution_count": 6,
      "outputs": []
    },
    {
      "cell_type": "markdown",
      "metadata": {
        "id": "OsmjdNgK6lSQ"
      },
      "source": [
        "# 3. Run Experiment (3 Points)\n",
        "This function runs one experiment and returns an array containing the reward achieved within each episode."
      ]
    },
    {
      "cell_type": "code",
      "metadata": {
        "id": "2JdkPhnV6lSQ"
      },
      "source": [
        "def run_experiment(env, agent, gamma, max_episodes=300, max_steps=200):\n",
        "    \"\"\"\n",
        "    Runs one experiment with given agent on the given environment for a certain number of episodes.\n",
        "    \n",
        "    Inputs:\n",
        "        @env (OpenAI Gym environment): the environment to interact with\n",
        "        @agent (as defined above): the agent (policy) to follow\n",
        "        @max_episodes (integer): maximum number of episodes to train on.\n",
        "        @max_steps (integer): maximum number of steps in episode.\n",
        "    \n",
        "    Returns:\n",
        "        @total_rewards (vector with length <max_episodes>): containing the total rewards per episode\n",
        "    \"\"\"\n",
        "    # TODO\n",
        "    ep=0\n",
        "    total_rewards = []\n",
        "    while ep<max_episodes:\n",
        "        states, actions, rewards, log_action_probs, total_reward = generate_episode(env,agent,max_steps)\n",
        "        total_rewards.append(total_reward)\n",
        "        #print(total_reward)\n",
        "        agent.update(states,actions,log_action_probs,rewards,gamma)\n",
        "        ep+=1\n",
        "    return total_rewards"
      ],
      "execution_count": 7,
      "outputs": []
    },
    {
      "cell_type": "markdown",
      "metadata": {
        "id": "QPpErxlR6lST"
      },
      "source": [
        "# 4. Train\n",
        "This is the part where we actually train our agent. Make sure that your code allows to re-run the same experiment a couple of times. We will need this in the next part of the assignment."
      ]
    },
    {
      "cell_type": "code",
      "metadata": {
        "id": "IsMRYSRC6lST",
        "colab": {
          "base_uri": "https://localhost:8080/"
        },
        "outputId": "b45a728d-b07d-4e55-84db-a617b1e56f7c"
      },
      "source": [
        "# we'll use a \"mother\" random number generator to choose the seeds for the different\n",
        "# random number generators used in the experiments below\n",
        "# this is so we have **reproducible** results!\n",
        "\n",
        "\n",
        "# please note, that on GPUs, this is not as easy!\n",
        "# GPUs have non-deterministic operations, for which\n",
        "# deterministic equivalents might not exist!\n",
        "\n",
        "# the networks in question will be tiny, so you do **not need a GPU**!\n",
        "\n",
        "seed_generator = np.random.default_rng(4711)\n",
        "\n",
        "gamma = 0.99\n",
        "max_steps = 200         # maximum time steps per episode\n",
        "max_episodes = 500      # overall maximum number of episodes\n",
        "num_experiments = 5     # number of experimental re-runs\n",
        "\n",
        "# init book keeping of rewards\n",
        "rewards = np.zeros((num_experiments, max_episodes))\n",
        "\n",
        "# run multiple experiments to get reliable performance estimates\n",
        "for exp in range(num_experiments):\n",
        "    # we draw a seed for each randomness source in an experiment\n",
        "    # you might need to adapt this to the framework you are actually using\n",
        "    numpy_seed = seed_generator.integers(0, 2 ** 32 - 1)\n",
        "    torch_seed = seed_generator.integers(0, 2 ** 32 - 1)\n",
        "    env_seed = int(seed_generator.integers(0, 2 ** 32 - 1))\n",
        "    print('experiment', exp + 1)\n",
        "    print('numpy seed', numpy_seed)\n",
        "    print('torch seed', torch_seed)\n",
        "    print('env seed  ', env_seed)\n",
        "\n",
        "    ####################################################################\n",
        "    # provide exact same starting conditions for \"Reinforce\" agent\n",
        "    env = gym.make('CartPole-v0')\n",
        "    np.random.seed(numpy_seed)\n",
        "    torch.manual_seed(torch_seed)\n",
        "    env.seed(env_seed)\n",
        "\n",
        "    # REINFORCE agent\n",
        "    agent = Reinforce(env, alpha=1e-4)\n",
        "    rewards[exp, ] = run_experiment(env, agent, gamma, max_episodes, max_steps)"
      ],
      "execution_count": 8,
      "outputs": [
        {
          "output_type": "stream",
          "text": [
            "experiment 1\n",
            "numpy seed 1836726047\n",
            "torch seed 903154475\n",
            "env seed   571742415\n",
            "experiment 2\n",
            "numpy seed 817575766\n",
            "torch seed 287759766\n",
            "env seed   789449501\n",
            "experiment 3\n",
            "numpy seed 35943333\n",
            "torch seed 2760260225\n",
            "env seed   3198490648\n",
            "experiment 4\n",
            "numpy seed 2539010496\n",
            "torch seed 4045701455\n",
            "env seed   3607925738\n",
            "experiment 5\n",
            "numpy seed 234401814\n",
            "torch seed 3044374479\n",
            "env seed   3967184447\n"
          ],
          "name": "stdout"
        }
      ]
    },
    {
      "cell_type": "markdown",
      "metadata": {
        "id": "f6A0fxRm6lSU"
      },
      "source": [
        "# 5. Visualize the performance of your agent (3 Points)\n",
        "In order to visualize the performance of your agent **re-train it for 5 times** and keep the reward per episode for each of these runs.\n",
        "<br>\n",
        "To be clear:\n",
        "Run each of the five experiment for a maximum of 200 episodes. What you should end up with is a reward-matrix with shape (5 x 200).\n",
        "<br><br>\n",
        "Visualize this reward-matrix via the provided **tsplot** showing the mean and standard deviation of your collected rewards.\n",
        "<br>\n",
        "\n",
        "<div class=\"alert alert-info\">\n",
        "\n",
        "**Remarks:**\n",
        "\n",
        "- set the limits of your y-axis to [0, 220] to produce comparable plots (or even better, compare everything in one figure).\n",
        "- use legends and appropriate titles in your figures\n",
        "- put labels onto the x and y axis\n",
        "\n",
        "</div>"
      ]
    },
    {
      "cell_type": "code",
      "metadata": {
        "id": "YQsXMYmGrwd2"
      },
      "source": [
        "def tsplot(data, label=None, title=None, **kw):\n",
        "\n",
        "    x = np.arange(data.shape[1])\n",
        "    est = np.mean(data, axis=0)\n",
        "    sd = np.std(data, axis=0)\n",
        "    cis = (est - sd, est + sd)\n",
        "    plt.fill_between(x, cis[0], cis[1], alpha=0.2, **kw)\n",
        "    plt.plot(x, est, label=label, **kw)\n",
        "    plt.title(title)\n",
        "    plt.ylim(0,220)\n",
        "    plt.xlabel('Episodes')\n",
        "    plt.ylabel('Total Reward')\n",
        "    plt.legend()\n",
        "    plt.margins(x=0)"
      ],
      "execution_count": 27,
      "outputs": []
    },
    {
      "cell_type": "code",
      "metadata": {
        "id": "HXJLlC0-6lSV",
        "colab": {
          "base_uri": "https://localhost:8080/"
        },
        "outputId": "f12f0556-abd0-4f25-cf14-019960365c77"
      },
      "source": [
        "# we'll use a \"mother\" random number generator to choose the seeds for the different\n",
        "# random number generators used in the experiments below\n",
        "# this is so we have **reproducible** results!\n",
        "\n",
        "\n",
        "# please note, that on GPUs, this is not as easy!\n",
        "# GPUs have non-deterministic operations, for which\n",
        "# deterministic equivalents might not exist!\n",
        "\n",
        "# the networks in question will be tiny, so you do **not need a GPU**!\n",
        "\n",
        "seed_generator = np.random.default_rng(4711)\n",
        "\n",
        "gamma = 0.99\n",
        "max_steps = 200         # maximum time steps per episode\n",
        "max_episodes = 200      # overall maximum number of episodes\n",
        "num_experiments = 5     # number of experimental re-runs\n",
        "\n",
        "# init book keeping of rewards\n",
        "rewards = np.zeros((num_experiments, max_episodes))\n",
        "\n",
        "# run multiple experiments to get reliable performance estimates\n",
        "for exp in range(num_experiments):\n",
        "    # we draw a seed for each randomness source in an experiment\n",
        "    # you might need to adapt this to the framework you are actually using\n",
        "    numpy_seed = seed_generator.integers(0, 2 ** 32 - 1)\n",
        "    torch_seed = seed_generator.integers(0, 2 ** 32 - 1)\n",
        "    env_seed = int(seed_generator.integers(0, 2 ** 32 - 1))\n",
        "    print('experiment', exp + 1)\n",
        "    print('numpy seed', numpy_seed)\n",
        "    print('torch seed', torch_seed)\n",
        "    print('env seed  ', env_seed)\n",
        "\n",
        "    ####################################################################\n",
        "    # provide exact same starting conditions for \"Reinforce\" agent\n",
        "    env = gym.make('CartPole-v0')\n",
        "    np.random.seed(numpy_seed)\n",
        "    torch.manual_seed(torch_seed)\n",
        "    env.seed(env_seed)\n",
        "\n",
        "    # REINFORCE agent\n",
        "    agent = Reinforce(env, alpha=1e-4)\n",
        "    rewards[exp, ] = run_experiment(env, agent, gamma, max_episodes, max_steps)"
      ],
      "execution_count": 10,
      "outputs": [
        {
          "output_type": "stream",
          "text": [
            "experiment 1\n",
            "numpy seed 1836726047\n",
            "torch seed 903154475\n",
            "env seed   571742415\n",
            "experiment 2\n",
            "numpy seed 817575766\n",
            "torch seed 287759766\n",
            "env seed   789449501\n",
            "experiment 3\n",
            "numpy seed 35943333\n",
            "torch seed 2760260225\n",
            "env seed   3198490648\n",
            "experiment 4\n",
            "numpy seed 2539010496\n",
            "torch seed 4045701455\n",
            "env seed   3607925738\n",
            "experiment 5\n",
            "numpy seed 234401814\n",
            "torch seed 3044374479\n",
            "env seed   3967184447\n"
          ],
          "name": "stdout"
        }
      ]
    },
    {
      "cell_type": "code",
      "metadata": {
        "colab": {
          "base_uri": "https://localhost:8080/",
          "height": 295
        },
        "id": "AMv_G7G2ojlk",
        "outputId": "f839fb08-3fe0-4db3-d7d9-cacac2ee07bb"
      },
      "source": [
        "tsplot(rewards,label ='REINFORCE', title = 'REINFORCE through episodes')"
      ],
      "execution_count": 28,
      "outputs": [
        {
          "output_type": "display_data",
          "data": {
            "image/png": "[encoded data removed]",
            "text/plain": [
              "<Figure size 432x288 with 1 Axes>"
            ]
          },
          "metadata": {
            "tags": [],
            "needs_background": "light"
          }
        }
      ]
    },
    {
      "cell_type": "markdown",
      "metadata": {
        "id": "5iRwVzhF6lSV"
      },
      "source": [
        "# 6. REINFORCE with Baseline (5 Points)\n",
        "Implement **REINFORCE with Baseline**.\n",
        "\n",
        "- You can either create a new class or include the implementation into *REINFORCE* above. ( instead of re-running the code again I just run it above)\n",
        "- Run your implementation and compare *REINFORCE* and *REINFORCE with Baseline* in the experiments above.\n",
        "\n",
        "**Hints**:\n",
        "- Don't forget to discount your rewards when trying to learn a value function (see lecture slides)\n",
        "- If it does not work out of the box, don't get frustrated. It is not that easy to get the balance between the two different learning rates for the policy- and the value-network right. Grid search / Random search is your friend\n",
        "- Don't share the network parameters for policy and value network for this example. Use individual networks for each of them\n",
        "- Make sure the **output** of your **value network** is **linear** (e.g.: don't use a nonlinearity in the last layer)\n",
        "- If learning is unstable you can try to use smaller learning rates\n",
        "- Take a look at the **gradient magnitudes** and the **update magnitudes** of your network (see **07_technical_details.ipynb** on how you might do that)"
      ]
    },
    {
      "cell_type": "code",
      "metadata": {
        "id": "UtNt1VcZrsij",
        "colab": {
          "base_uri": "https://localhost:8080/"
        },
        "outputId": "484726e2-2f46-4389-f183-97c407d68fec"
      },
      "source": [
        "# we'll use a \"mother\" random number generator to choose the seeds for the different\n",
        "# random number generators used in the experiments below\n",
        "# this is so we have **reproducible** results!\n",
        "\n",
        "\n",
        "# please note, that on GPUs, this is not as easy!\n",
        "# GPUs have non-deterministic operations, for which\n",
        "# deterministic equivalents might not exist!\n",
        "\n",
        "# the networks in question will be tiny, so you do **not need a GPU**!\n",
        "\n",
        "seed_generator = np.random.default_rng(4711)\n",
        "\n",
        "gamma = 0.99\n",
        "max_steps = 200         # maximum time steps per episode\n",
        "max_episodes = 200      # overall maximum number of episodes\n",
        "num_experiments = 5     # number of experimental re-runs\n",
        "\n",
        "# init book keeping of rewards\n",
        "rewards = np.zeros((num_experiments, max_episodes))\n",
        "rewards_bl = np.zeros((num_experiments,max_episodes))\n",
        "\n",
        "# run multiple experiments to get reliable performance estimates\n",
        "for exp in range(num_experiments):\n",
        "    # we draw a seed for each randomness source in an experiment\n",
        "    # you might need to adapt this to the framework you are actually using\n",
        "    numpy_seed = seed_generator.integers(0, 2 ** 32 - 1)\n",
        "    torch_seed = seed_generator.integers(0, 2 ** 32 - 1)\n",
        "    env_seed = int(seed_generator.integers(0, 2 ** 32 - 1))\n",
        "    print('experiment', exp + 1)\n",
        "    print('numpy seed', numpy_seed)\n",
        "    print('torch seed', torch_seed)\n",
        "    print('env seed  ', env_seed)\n",
        "\n",
        "    ####################################################################\n",
        "    # provide exact same starting conditions for \"Reinforce\" agent\n",
        "    env = gym.make('CartPole-v0')\n",
        "    np.random.seed(numpy_seed)\n",
        "    torch.manual_seed(torch_seed)\n",
        "    env.seed(env_seed)\n",
        "\n",
        "    # REINFORCE agent\n",
        "    agent = Reinforce(env, alpha=1e-4)\n",
        "    rewards[exp, ] = run_experiment(env, agent, gamma, max_episodes, max_steps)\n",
        "    \n",
        "    ####################################################################\n",
        "    # provide exact same starting conditions for \"Reinforce with baseline\" agent\n",
        "    env = gym.make('CartPole-v0')\n",
        "    np.random.seed(numpy_seed)\n",
        "    torch.manual_seed(torch_seed)\n",
        "    env.seed(env_seed)\n",
        "    #print('___________________baseline___________________________')\n",
        "    # REINFORCE with Baseline Agent\n",
        "    agent_bl = Reinforce(env, alpha= 1e-4, use_baseline=True)\n",
        "    rewards_bl[exp, ] = run_experiment(env, agent_bl, gamma, max_episodes, max_steps)"
      ],
      "execution_count": 29,
      "outputs": [
        {
          "output_type": "stream",
          "text": [
            "experiment 1\n",
            "numpy seed 1836726047\n",
            "torch seed 903154475\n",
            "env seed   571742415\n",
            "experiment 2\n",
            "numpy seed 817575766\n",
            "torch seed 287759766\n",
            "env seed   789449501\n",
            "experiment 3\n",
            "numpy seed 35943333\n",
            "torch seed 2760260225\n",
            "env seed   3198490648\n",
            "experiment 4\n",
            "numpy seed 2539010496\n",
            "torch seed 4045701455\n",
            "env seed   3607925738\n",
            "experiment 5\n",
            "numpy seed 234401814\n",
            "torch seed 3044374479\n",
            "env seed   3967184447\n"
          ],
          "name": "stdout"
        }
      ]
    },
    {
      "cell_type": "code",
      "metadata": {
        "id": "6ujyv6xx_uvr",
        "colab": {
          "base_uri": "https://localhost:8080/",
          "height": 279
        },
        "outputId": "a41a15db-6610-4e56-9e9c-a5d2838543e2"
      },
      "source": [
        "tsplot(rewards_bl,label ='REINFORCE with baseline',title='REINFORCE with vs without baseline')\n",
        "tsplot(rewards,label = 'REINFORCE without baseline')\n"
      ],
      "execution_count": 30,
      "outputs": [
        {
          "output_type": "display_data",
          "data": {
            "image/png": "[encoded data removed]",
            "text/plain": [
              "<Figure size 432x288 with 1 Axes>"
            ]
          },
          "metadata": {
            "tags": [],
            "needs_background": "light"
          }
        }
      ]
    },
    {
      "cell_type": "markdown",
      "metadata": {
        "id": "AF71wkUs6lSW"
      },
      "source": [
        "# 7. Visual Inspection (0 Points, $\\infty$ fun)\n",
        "\n",
        "<div class=\"alert alert-info\">\n",
        "\n",
        "Once you are done with training your agents you can visually inspect their behavior of your agent by calling the function *env.render()* after each step.\n",
        "</div>"
      ]
    },
    {
      "cell_type": "code",
      "metadata": {
        "id": "f2-UfMK66lSY",
        "colab": {
          "base_uri": "https://localhost:8080/",
          "height": 375
        },
        "outputId": "6b845b92-19f0-4dbf-86b7-d0ba5a5528cf"
      },
      "source": [
        "import time\n",
        "env = gym.make('CartPole-v0')\n",
        "\n",
        "for i_episode in range(5):\n",
        "    observation = env.reset()\n",
        "    for t in range(200):\n",
        "        env.render()\n",
        "        time.sleep(0.02)\n",
        "        \n",
        "        # TODO: replace this with your trained agent for action selection.\n",
        "        action = agent.choose_action(observation)\n",
        "        \n",
        "        observation, reward, done, info = env.step(action)\n",
        "        \n",
        "        if done:\n",
        "            break"
      ],
      "execution_count": 14,
      "outputs": [
        {
          "output_type": "error",
          "ename": "NoSuchDisplayException",
          "evalue": "ignored",
          "traceback": [
            "\u001b[0;31m---------------------------------------------------------------------------\u001b[0m",
            "\u001b[0;31mNoSuchDisplayException\u001b[0m                    Traceback (most recent call last)",
            "\u001b[0;32m<ipython-input-14-290fa8ded239>\u001b[0m in \u001b[0;36m<module>\u001b[0;34m()\u001b[0m\n\u001b[1;32m      5\u001b[0m     \u001b[0mobservation\u001b[0m \u001b[0;34m=\u001b[0m \u001b[0menv\u001b[0m\u001b[0;34m.\u001b[0m\u001b[0mreset\u001b[0m\u001b[0;34m(\u001b[0m\u001b[0;34m)\u001b[0m\u001b[0;34m\u001b[0m\u001b[0;34m\u001b[0m\u001b[0m\n\u001b[1;32m      6\u001b[0m     \u001b[0;32mfor\u001b[0m \u001b[0mt\u001b[0m \u001b[0;32min\u001b[0m \u001b[0mrange\u001b[0m\u001b[0;34m(\u001b[0m\u001b[0;36m200\u001b[0m\u001b[0;34m)\u001b[0m\u001b[0;34m:\u001b[0m\u001b[0;34m\u001b[0m\u001b[0;34m\u001b[0m\u001b[0m\n\u001b[0;32m----> 7\u001b[0;31m         \u001b[0menv\u001b[0m\u001b[0;34m.\u001b[0m\u001b[0mrender\u001b[0m\u001b[0;34m(\u001b[0m\u001b[0;34m)\u001b[0m\u001b[0;34m\u001b[0m\u001b[0;34m\u001b[0m\u001b[0m\n\u001b[0m\u001b[1;32m      8\u001b[0m         \u001b[0mtime\u001b[0m\u001b[0;34m.\u001b[0m\u001b[0msleep\u001b[0m\u001b[0;34m(\u001b[0m\u001b[0;36m0.02\u001b[0m\u001b[0;34m)\u001b[0m\u001b[0;34m\u001b[0m\u001b[0;34m\u001b[0m\u001b[0m\n\u001b[1;32m      9\u001b[0m \u001b[0;34m\u001b[0m\u001b[0m\n",
            "\u001b[0;32m/usr/local/lib/python3.6/dist-packages/gym/core.py\u001b[0m in \u001b[0;36mrender\u001b[0;34m(self, mode, **kwargs)\u001b[0m\n\u001b[1;32m    238\u001b[0m \u001b[0;34m\u001b[0m\u001b[0m\n\u001b[1;32m    239\u001b[0m     \u001b[0;32mdef\u001b[0m \u001b[0mrender\u001b[0m\u001b[0;34m(\u001b[0m\u001b[0mself\u001b[0m\u001b[0;34m,\u001b[0m \u001b[0mmode\u001b[0m\u001b[0;34m=\u001b[0m\u001b[0;34m'human'\u001b[0m\u001b[0;34m,\u001b[0m \u001b[0;34m**\u001b[0m\u001b[0mkwargs\u001b[0m\u001b[0;34m)\u001b[0m\u001b[0;34m:\u001b[0m\u001b[0;34m\u001b[0m\u001b[0;34m\u001b[0m\u001b[0m\n\u001b[0;32m--> 240\u001b[0;31m         \u001b[0;32mreturn\u001b[0m \u001b[0mself\u001b[0m\u001b[0;34m.\u001b[0m\u001b[0menv\u001b[0m\u001b[0;34m.\u001b[0m\u001b[0mrender\u001b[0m\u001b[0;34m(\u001b[0m\u001b[0mmode\u001b[0m\u001b[0;34m,\u001b[0m \u001b[0;34m**\u001b[0m\u001b[0mkwargs\u001b[0m\u001b[0;34m)\u001b[0m\u001b[0;34m\u001b[0m\u001b[0;34m\u001b[0m\u001b[0m\n\u001b[0m\u001b[1;32m    241\u001b[0m \u001b[0;34m\u001b[0m\u001b[0m\n\u001b[1;32m    242\u001b[0m     \u001b[0;32mdef\u001b[0m \u001b[0mclose\u001b[0m\u001b[0;34m(\u001b[0m\u001b[0mself\u001b[0m\u001b[0;34m)\u001b[0m\u001b[0;34m:\u001b[0m\u001b[0;34m\u001b[0m\u001b[0;34m\u001b[0m\u001b[0m\n",
            "\u001b[0;32m/usr/local/lib/python3.6/dist-packages/gym/envs/classic_control/cartpole.py\u001b[0m in \u001b[0;36mrender\u001b[0;34m(self, mode)\u001b[0m\n\u001b[1;32m    172\u001b[0m \u001b[0;34m\u001b[0m\u001b[0m\n\u001b[1;32m    173\u001b[0m         \u001b[0;32mif\u001b[0m \u001b[0mself\u001b[0m\u001b[0;34m.\u001b[0m\u001b[0mviewer\u001b[0m \u001b[0;32mis\u001b[0m \u001b[0;32mNone\u001b[0m\u001b[0;34m:\u001b[0m\u001b[0;34m\u001b[0m\u001b[0;34m\u001b[0m\u001b[0m\n\u001b[0;32m--> 174\u001b[0;31m             \u001b[0;32mfrom\u001b[0m \u001b[0mgym\u001b[0m\u001b[0;34m.\u001b[0m\u001b[0menvs\u001b[0m\u001b[0;34m.\u001b[0m\u001b[0mclassic_control\u001b[0m \u001b[0;32mimport\u001b[0m \u001b[0mrendering\u001b[0m\u001b[0;34m\u001b[0m\u001b[0;34m\u001b[0m\u001b[0m\n\u001b[0m\u001b[1;32m    175\u001b[0m             \u001b[0mself\u001b[0m\u001b[0;34m.\u001b[0m\u001b[0mviewer\u001b[0m \u001b[0;34m=\u001b[0m \u001b[0mrendering\u001b[0m\u001b[0;34m.\u001b[0m\u001b[0mViewer\u001b[0m\u001b[0;34m(\u001b[0m\u001b[0mscreen_width\u001b[0m\u001b[0;34m,\u001b[0m \u001b[0mscreen_height\u001b[0m\u001b[0;34m)\u001b[0m\u001b[0;34m\u001b[0m\u001b[0;34m\u001b[0m\u001b[0m\n\u001b[1;32m    176\u001b[0m             \u001b[0ml\u001b[0m\u001b[0;34m,\u001b[0m \u001b[0mr\u001b[0m\u001b[0;34m,\u001b[0m \u001b[0mt\u001b[0m\u001b[0;34m,\u001b[0m \u001b[0mb\u001b[0m \u001b[0;34m=\u001b[0m \u001b[0;34m-\u001b[0m\u001b[0mcartwidth\u001b[0m \u001b[0;34m/\u001b[0m \u001b[0;36m2\u001b[0m\u001b[0;34m,\u001b[0m \u001b[0mcartwidth\u001b[0m \u001b[0;34m/\u001b[0m \u001b[0;36m2\u001b[0m\u001b[0;34m,\u001b[0m \u001b[0mcartheight\u001b[0m \u001b[0;34m/\u001b[0m \u001b[0;36m2\u001b[0m\u001b[0;34m,\u001b[0m \u001b[0;34m-\u001b[0m\u001b[0mcartheight\u001b[0m \u001b[0;34m/\u001b[0m \u001b[0;36m2\u001b[0m\u001b[0;34m\u001b[0m\u001b[0;34m\u001b[0m\u001b[0m\n",
            "\u001b[0;32m/usr/local/lib/python3.6/dist-packages/gym/envs/classic_control/rendering.py\u001b[0m in \u001b[0;36m<module>\u001b[0;34m()\u001b[0m\n\u001b[1;32m     23\u001b[0m \u001b[0;34m\u001b[0m\u001b[0m\n\u001b[1;32m     24\u001b[0m \u001b[0;32mtry\u001b[0m\u001b[0;34m:\u001b[0m\u001b[0;34m\u001b[0m\u001b[0;34m\u001b[0m\u001b[0m\n\u001b[0;32m---> 25\u001b[0;31m     \u001b[0;32mfrom\u001b[0m \u001b[0mpyglet\u001b[0m\u001b[0;34m.\u001b[0m\u001b[0mgl\u001b[0m \u001b[0;32mimport\u001b[0m \u001b[0;34m*\u001b[0m\u001b[0;34m\u001b[0m\u001b[0;34m\u001b[0m\u001b[0m\n\u001b[0m\u001b[1;32m     26\u001b[0m \u001b[0;32mexcept\u001b[0m \u001b[0mImportError\u001b[0m \u001b[0;32mas\u001b[0m \u001b[0me\u001b[0m\u001b[0;34m:\u001b[0m\u001b[0;34m\u001b[0m\u001b[0;34m\u001b[0m\u001b[0m\n\u001b[1;32m     27\u001b[0m     raise ImportError('''\n",
            "\u001b[0;32m/usr/local/lib/python3.6/dist-packages/pyglet/gl/__init__.py\u001b[0m in \u001b[0;36m<module>\u001b[0;34m()\u001b[0m\n\u001b[1;32m    242\u001b[0m     \u001b[0;31m# trickery is for circular import\u001b[0m\u001b[0;34m\u001b[0m\u001b[0;34m\u001b[0m\u001b[0;34m\u001b[0m\u001b[0m\n\u001b[1;32m    243\u001b[0m     \u001b[0m_pyglet\u001b[0m\u001b[0;34m.\u001b[0m\u001b[0mgl\u001b[0m \u001b[0;34m=\u001b[0m \u001b[0m_sys\u001b[0m\u001b[0;34m.\u001b[0m\u001b[0mmodules\u001b[0m\u001b[0;34m[\u001b[0m\u001b[0m__name__\u001b[0m\u001b[0;34m]\u001b[0m\u001b[0;34m\u001b[0m\u001b[0;34m\u001b[0m\u001b[0m\n\u001b[0;32m--> 244\u001b[0;31m     \u001b[0;32mimport\u001b[0m \u001b[0mpyglet\u001b[0m\u001b[0;34m.\u001b[0m\u001b[0mwindow\u001b[0m\u001b[0;34m\u001b[0m\u001b[0;34m\u001b[0m\u001b[0m\n\u001b[0m",
            "\u001b[0;32m/usr/local/lib/python3.6/dist-packages/pyglet/window/__init__.py\u001b[0m in \u001b[0;36m<module>\u001b[0;34m()\u001b[0m\n\u001b[1;32m   1878\u001b[0m \u001b[0;32mif\u001b[0m \u001b[0;32mnot\u001b[0m \u001b[0m_is_pyglet_doc_run\u001b[0m\u001b[0;34m:\u001b[0m\u001b[0;34m\u001b[0m\u001b[0;34m\u001b[0m\u001b[0m\n\u001b[1;32m   1879\u001b[0m     \u001b[0mpyglet\u001b[0m\u001b[0;34m.\u001b[0m\u001b[0mwindow\u001b[0m \u001b[0;34m=\u001b[0m \u001b[0msys\u001b[0m\u001b[0;34m.\u001b[0m\u001b[0mmodules\u001b[0m\u001b[0;34m[\u001b[0m\u001b[0m__name__\u001b[0m\u001b[0;34m]\u001b[0m\u001b[0;34m\u001b[0m\u001b[0;34m\u001b[0m\u001b[0m\n\u001b[0;32m-> 1880\u001b[0;31m     \u001b[0mgl\u001b[0m\u001b[0;34m.\u001b[0m\u001b[0m_create_shadow_window\u001b[0m\u001b[0;34m(\u001b[0m\u001b[0;34m)\u001b[0m\u001b[0;34m\u001b[0m\u001b[0;34m\u001b[0m\u001b[0m\n\u001b[0m",
            "\u001b[0;32m/usr/local/lib/python3.6/dist-packages/pyglet/gl/__init__.py\u001b[0m in \u001b[0;36m_create_shadow_window\u001b[0;34m()\u001b[0m\n\u001b[1;32m    218\u001b[0m \u001b[0;34m\u001b[0m\u001b[0m\n\u001b[1;32m    219\u001b[0m     \u001b[0;32mfrom\u001b[0m \u001b[0mpyglet\u001b[0m\u001b[0;34m.\u001b[0m\u001b[0mwindow\u001b[0m \u001b[0;32mimport\u001b[0m \u001b[0mWindow\u001b[0m\u001b[0;34m\u001b[0m\u001b[0;34m\u001b[0m\u001b[0m\n\u001b[0;32m--> 220\u001b[0;31m     \u001b[0m_shadow_window\u001b[0m \u001b[0;34m=\u001b[0m \u001b[0mWindow\u001b[0m\u001b[0;34m(\u001b[0m\u001b[0mwidth\u001b[0m\u001b[0;34m=\u001b[0m\u001b[0;36m1\u001b[0m\u001b[0;34m,\u001b[0m \u001b[0mheight\u001b[0m\u001b[0;34m=\u001b[0m\u001b[0;36m1\u001b[0m\u001b[0;34m,\u001b[0m \u001b[0mvisible\u001b[0m\u001b[0;34m=\u001b[0m\u001b[0;32mFalse\u001b[0m\u001b[0;34m)\u001b[0m\u001b[0;34m\u001b[0m\u001b[0;34m\u001b[0m\u001b[0m\n\u001b[0m\u001b[1;32m    221\u001b[0m     \u001b[0m_shadow_window\u001b[0m\u001b[0;34m.\u001b[0m\u001b[0mswitch_to\u001b[0m\u001b[0;34m(\u001b[0m\u001b[0;34m)\u001b[0m\u001b[0;34m\u001b[0m\u001b[0;34m\u001b[0m\u001b[0m\n\u001b[1;32m    222\u001b[0m \u001b[0;34m\u001b[0m\u001b[0m\n",
            "\u001b[0;32m/usr/local/lib/python3.6/dist-packages/pyglet/window/xlib/__init__.py\u001b[0m in \u001b[0;36m__init__\u001b[0;34m(self, *args, **kwargs)\u001b[0m\n\u001b[1;32m    163\u001b[0m                     \u001b[0mself\u001b[0m\u001b[0;34m.\u001b[0m\u001b[0m_event_handlers\u001b[0m\u001b[0;34m[\u001b[0m\u001b[0mmessage\u001b[0m\u001b[0;34m]\u001b[0m \u001b[0;34m=\u001b[0m \u001b[0mfunc\u001b[0m\u001b[0;34m\u001b[0m\u001b[0;34m\u001b[0m\u001b[0m\n\u001b[1;32m    164\u001b[0m \u001b[0;34m\u001b[0m\u001b[0m\n\u001b[0;32m--> 165\u001b[0;31m         \u001b[0msuper\u001b[0m\u001b[0;34m(\u001b[0m\u001b[0mXlibWindow\u001b[0m\u001b[0;34m,\u001b[0m \u001b[0mself\u001b[0m\u001b[0;34m)\u001b[0m\u001b[0;34m.\u001b[0m\u001b[0m__init__\u001b[0m\u001b[0;34m(\u001b[0m\u001b[0;34m*\u001b[0m\u001b[0margs\u001b[0m\u001b[0;34m,\u001b[0m \u001b[0;34m**\u001b[0m\u001b[0mkwargs\u001b[0m\u001b[0;34m)\u001b[0m\u001b[0;34m\u001b[0m\u001b[0;34m\u001b[0m\u001b[0m\n\u001b[0m\u001b[1;32m    166\u001b[0m \u001b[0;34m\u001b[0m\u001b[0m\n\u001b[1;32m    167\u001b[0m         \u001b[0;32mglobal\u001b[0m \u001b[0m_can_detect_autorepeat\u001b[0m\u001b[0;34m\u001b[0m\u001b[0;34m\u001b[0m\u001b[0m\n",
            "\u001b[0;32m/usr/local/lib/python3.6/dist-packages/pyglet/window/__init__.py\u001b[0m in \u001b[0;36m__init__\u001b[0;34m(self, width, height, caption, resizable, style, fullscreen, visible, vsync, display, screen, config, context, mode)\u001b[0m\n\u001b[1;32m    568\u001b[0m \u001b[0;34m\u001b[0m\u001b[0m\n\u001b[1;32m    569\u001b[0m         \u001b[0;32mif\u001b[0m \u001b[0;32mnot\u001b[0m \u001b[0mdisplay\u001b[0m\u001b[0;34m:\u001b[0m\u001b[0;34m\u001b[0m\u001b[0;34m\u001b[0m\u001b[0m\n\u001b[0;32m--> 570\u001b[0;31m             \u001b[0mdisplay\u001b[0m \u001b[0;34m=\u001b[0m \u001b[0mpyglet\u001b[0m\u001b[0;34m.\u001b[0m\u001b[0mcanvas\u001b[0m\u001b[0;34m.\u001b[0m\u001b[0mget_display\u001b[0m\u001b[0;34m(\u001b[0m\u001b[0;34m)\u001b[0m\u001b[0;34m\u001b[0m\u001b[0;34m\u001b[0m\u001b[0m\n\u001b[0m\u001b[1;32m    571\u001b[0m \u001b[0;34m\u001b[0m\u001b[0m\n\u001b[1;32m    572\u001b[0m         \u001b[0;32mif\u001b[0m \u001b[0;32mnot\u001b[0m \u001b[0mscreen\u001b[0m\u001b[0;34m:\u001b[0m\u001b[0;34m\u001b[0m\u001b[0;34m\u001b[0m\u001b[0m\n",
            "\u001b[0;32m/usr/local/lib/python3.6/dist-packages/pyglet/canvas/__init__.py\u001b[0m in \u001b[0;36mget_display\u001b[0;34m()\u001b[0m\n\u001b[1;32m     92\u001b[0m \u001b[0;34m\u001b[0m\u001b[0m\n\u001b[1;32m     93\u001b[0m     \u001b[0;31m# Otherwise, create a new display and return it.\u001b[0m\u001b[0;34m\u001b[0m\u001b[0;34m\u001b[0m\u001b[0;34m\u001b[0m\u001b[0m\n\u001b[0;32m---> 94\u001b[0;31m     \u001b[0;32mreturn\u001b[0m \u001b[0mDisplay\u001b[0m\u001b[0;34m(\u001b[0m\u001b[0;34m)\u001b[0m\u001b[0;34m\u001b[0m\u001b[0;34m\u001b[0m\u001b[0m\n\u001b[0m\u001b[1;32m     95\u001b[0m \u001b[0;34m\u001b[0m\u001b[0m\n\u001b[1;32m     96\u001b[0m \u001b[0;34m\u001b[0m\u001b[0m\n",
            "\u001b[0;32m/usr/local/lib/python3.6/dist-packages/pyglet/canvas/xlib.py\u001b[0m in \u001b[0;36m__init__\u001b[0;34m(self, name, x_screen)\u001b[0m\n\u001b[1;32m    121\u001b[0m         \u001b[0mself\u001b[0m\u001b[0;34m.\u001b[0m\u001b[0m_display\u001b[0m \u001b[0;34m=\u001b[0m \u001b[0mxlib\u001b[0m\u001b[0;34m.\u001b[0m\u001b[0mXOpenDisplay\u001b[0m\u001b[0;34m(\u001b[0m\u001b[0mname\u001b[0m\u001b[0;34m)\u001b[0m\u001b[0;34m\u001b[0m\u001b[0;34m\u001b[0m\u001b[0m\n\u001b[1;32m    122\u001b[0m         \u001b[0;32mif\u001b[0m \u001b[0;32mnot\u001b[0m \u001b[0mself\u001b[0m\u001b[0;34m.\u001b[0m\u001b[0m_display\u001b[0m\u001b[0;34m:\u001b[0m\u001b[0;34m\u001b[0m\u001b[0;34m\u001b[0m\u001b[0m\n\u001b[0;32m--> 123\u001b[0;31m             \u001b[0;32mraise\u001b[0m \u001b[0mNoSuchDisplayException\u001b[0m\u001b[0;34m(\u001b[0m\u001b[0;34m'Cannot connect to \"%s\"'\u001b[0m \u001b[0;34m%\u001b[0m \u001b[0mname\u001b[0m\u001b[0;34m)\u001b[0m\u001b[0;34m\u001b[0m\u001b[0;34m\u001b[0m\u001b[0m\n\u001b[0m\u001b[1;32m    124\u001b[0m \u001b[0;34m\u001b[0m\u001b[0m\n\u001b[1;32m    125\u001b[0m         \u001b[0mscreen_count\u001b[0m \u001b[0;34m=\u001b[0m \u001b[0mxlib\u001b[0m\u001b[0;34m.\u001b[0m\u001b[0mXScreenCount\u001b[0m\u001b[0;34m(\u001b[0m\u001b[0mself\u001b[0m\u001b[0;34m.\u001b[0m\u001b[0m_display\u001b[0m\u001b[0;34m)\u001b[0m\u001b[0;34m\u001b[0m\u001b[0;34m\u001b[0m\u001b[0m\n",
            "\u001b[0;31mNoSuchDisplayException\u001b[0m: Cannot connect to \"None\""
          ]
        }
      ]
    }
  ]
}